{
 "cells": [
  {
   "cell_type": "markdown",
   "id": "0fed4f28-29af-42f9-a5e0-ea6741141f3c",
   "metadata": {},
   "source": [
    "# Welcome to the TEEHR Workshop at the May 2023 CIROH Developers Conference"
   ]
  },
  {
   "cell_type": "markdown",
   "id": "f51585be-7016-46d5-a7f9-72a96c9be0cd",
   "metadata": {},
   "source": [
    "## The following is the outline of what we intend to cover in the technical hands-on portion os the workshop:\n",
    "**01 - Getting Started**\n",
    "- Get the TEEHR library installed and run a few basic commands\n",
    "\n",
    "\n",
    "**02 - The Data Cache**\n",
    "\n",
    "\n",
    "**03 - Loading Data**\n",
    "\n",
    "\n",
    "**03 - Queries**"
   ]
  },
  {
   "cell_type": "code",
   "execution_count": null,
   "id": "3b2f2e2b-5439-4d45-8f5b-5559a3b7bcd6",
   "metadata": {},
   "outputs": [],
   "source": []
  }
 ],
 "metadata": {
  "kernelspec": {
   "display_name": "Python 3 (ipykernel)",
   "language": "python",
   "name": "python3"
  },
  "language_info": {
   "codemirror_mode": {
    "name": "ipython",
    "version": 3
   },
   "file_extension": ".py",
   "mimetype": "text/x-python",
   "name": "python",
   "nbconvert_exporter": "python",
   "pygments_lexer": "ipython3",
   "version": "3.10.8"
  }
 },
 "nbformat": 4,
 "nbformat_minor": 5
}
