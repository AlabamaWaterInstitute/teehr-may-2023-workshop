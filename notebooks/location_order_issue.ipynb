{
 "cells": [
  {
   "cell_type": "code",
   "execution_count": null,
   "id": "0d63ad1a-be5e-417c-8d64-556854f5eae3",
   "metadata": {},
   "outputs": [],
   "source": [
    "### adding a change"
   ]
  },
  {
   "cell_type": "code",
   "execution_count": null,
   "id": "c6131ee9-c570-4b2f-ac76-026739b8478e",
   "metadata": {},
   "outputs": [],
   "source": [
    "import teehr.queries.duckdb as tqd\n",
    "\n",
    "import dashboard_utils as du\n",
    "import importlib\n",
    "from datetime import datetime, timedelta\n",
    "from pathlib import Path\n",
    "import pandas as pd\n",
    "import geopandas as gpd"
   ]
  },
  {
   "cell_type": "code",
   "execution_count": null,
   "id": "6b94c9bf-9269-40db-9eec-742bb0de8e2a",
   "metadata": {},
   "outputs": [],
   "source": [
    "# evaluation study directory\n",
    "STUDY_DIR = Path(\"/home\", \"jovyan\", \"shared\", \"rti-eval\", \"post-event-example\")\n",
    "\n",
    "# medium range streamflow forecast evaluation files \n",
    "scenario = dict(\n",
    "    scenario_name=\"medium_range\",\n",
    "    variable=\"streamflow\",\n",
    "    primary_filepath=Path(STUDY_DIR, \"timeseries\", \"usgs\", \"*.parquet\"),\n",
    "    secondary_filepath=Path(STUDY_DIR, \"timeseries\", \"medium_range_mem1\", \"*.parquet\"),\n",
    "    crosswalk_filepath=Path(STUDY_DIR, \"geo\", \"usgs_nwm22_crosswalk.parquet\"),\n",
    "    geometry_filepath=Path(STUDY_DIR, \"geo\", \"usgs_geometry.parquet\")\n",
    ")\n",
    "attribute_paths = dict(\n",
    "    usgs_upstream_area=Path(STUDY_DIR, \"geo\", \"usgs_attr_upstream_area.parquet\"),\n",
    "    usgs_ecoregions=Path(STUDY_DIR, \"geo\", \"usgs_attr_ecoregions.parquet\"),\n",
    "    usgs_stream_order=Path(STUDY_DIR, \"geo\", \"usgs_attr_stream_order.parquet\"),\n",
    "    usgs_huc_crosswalk=Path(STUDY_DIR, \"geo\", \"usgs_huc12_crosswalk.parquet\"),\n",
    ")\n",
    "\n"
   ]
  },
  {
   "cell_type": "code",
   "execution_count": null,
   "id": "8064738c-cc59-4762-8f72-3765af70987a",
   "metadata": {},
   "outputs": [],
   "source": [
    "# build the filters\n",
    "filters=[]    \n",
    "location_list = du.get_usgs_locations_within_huc(huc_level=2, huc_id='18', attribute_paths=attribute_paths)\n",
    "location_list.sort()\n",
    "filters.append(\n",
    "    {\n",
    "        \"column\": \"primary_location_id\",\n",
    "        \"operator\": \"in\",\n",
    "        \"value\": location_list\n",
    "    }\n",
    ")\n",
    "filters.append(\n",
    "    {\n",
    "        \"column\": \"reference_time\",\n",
    "        \"operator\": \"=\",\n",
    "        \"value\": f\"{datetime(2023, 1, 1, 12)}\"\n",
    "    }\n",
    ")\n",
    "# get metrics\n",
    "gdf = tqd.get_metrics(\n",
    "    primary_filepath=scenario[\"primary_filepath\"],\n",
    "    secondary_filepath=scenario[\"secondary_filepath\"],\n",
    "    crosswalk_filepath=scenario[\"crosswalk_filepath\"],       \n",
    "    group_by=['primary_location_id','reference_time'],    \n",
    "    order_by=['primary_location_id'],\n",
    "    filters=filters,\n",
    "    return_query=False,\n",
    "    geometry_filepath=scenario[\"geometry_filepath\"],       \n",
    "    include_geometry=True,\n",
    "    include_metrics=['max_value_delta'],\n",
    ") \n",
    "\n",
    "print(len(gdf))\n",
    "print(gdf.iloc[220:230,0:3])"
   ]
  },
  {
   "cell_type": "code",
   "execution_count": null,
   "id": "b07f8782-2fd3-4482-835f-b2b5dee15f35",
   "metadata": {},
   "outputs": [],
   "source": [
    "order_by=['primary_location_id']\n",
    "gdf = gdf.sort_values(order_by)\n",
    "print(gdf.iloc[220:230,0:3])"
   ]
  },
  {
   "cell_type": "code",
   "execution_count": null,
   "id": "36340089-1a4a-46eb-a1f7-69b17f47215b",
   "metadata": {},
   "outputs": [],
   "source": []
  }
 ],
 "metadata": {
  "kernelspec": {
   "display_name": "Python 3 (ipykernel)",
   "language": "python",
   "name": "python3"
  },
  "language_info": {
   "codemirror_mode": {
    "name": "ipython",
    "version": 3
   },
   "file_extension": ".py",
   "mimetype": "text/x-python",
   "name": "python",
   "nbconvert_exporter": "python",
   "pygments_lexer": "ipython3",
   "version": "3.10.8"
  }
 },
 "nbformat": 4,
 "nbformat_minor": 5
}
