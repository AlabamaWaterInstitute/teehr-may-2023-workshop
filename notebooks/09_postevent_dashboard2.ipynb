<<<<<<< HEAD
version https://git-lfs.github.com/spec/v1
oid sha256:a72e4a890bc3bdb9ba5295423821d6a2a690178dfc6d7e6edb55077899afc92b
size 13828
=======
{
 "cells": [
  {
   "cell_type": "markdown",
   "id": "4ba0a39f-a3eb-4bad-aca5-b14738d87f20",
   "metadata": {},
   "source": [
    "# 09 - Post-Event Dashboard 2\n",
    "\n",
    "This is a second example dashboard for qualitative post-event evaluation.  This example facilitates exploration of precipitation and streamflow timeseries plots for a selected gage location on a map. This example was also built for a specific post-event evaluation need within OWP."
   ]
  },
  {
   "cell_type": "code",
   "execution_count": null,
   "id": "e2efca43-3791-4e08-a82e-73e0b571ec8c",
   "metadata": {},
   "outputs": [],
   "source": [
    "import teehr.queries.duckdb as tqd\n",
    "import postevent_dashboard_utils as du\n",
    "from datetime import datetime, timedelta\n",
    "from pathlib import Path\n",
    "import pandas as pd\n",
    "import geopandas as gpd\n",
    "import holoviews as hv\n",
    "from holoviews.element import tiles\n",
    "import geoviews as gv\n",
    "import panel as pn\n",
    "hv.extension('bokeh', logo=False)"
   ]
  },
  {
   "cell_type": "code",
   "execution_count": null,
   "id": "435147c1-0704-497d-aa10-d4a37432dbb7",
   "metadata": {},
   "outputs": [],
   "source": [
    "# overall study directory\n",
    "CACHE_DIR = Path(Path.home(), \"shared\", \"teehr-workshop\", \"post-event-example\")\n",
    "\n",
    "# medium range streamflow forecast evaluation files \n",
    "MRF_streamflow = dict(\n",
    "    scenario_name=\"medium_range\",\n",
    "    variable=\"streamflow\",\n",
    "    primary_filepath=Path(CACHE_DIR, \"timeseries\", \"usgs\", \"*.parquet\"),\n",
    "    secondary_filepath=Path(CACHE_DIR, \"timeseries\", \"medium_range_mem1\", \"*.parquet\"),\n",
    "    crosswalk_filepath=Path(CACHE_DIR, \"geo\", \"usgs_nwm22_crosswalk.parquet\"),\n",
    "    geometry_filepath=Path(CACHE_DIR, \"geo\", \"usgs_geometry.parquet\")\n",
    ")\n",
    "# medium range precip forecast evaluation files\n",
    "MRF_forcing = dict(\n",
    "    scenario_name=\"medium_range\",\n",
    "    variable=\"precipitation\",    \n",
    "    primary_filepath=Path(CACHE_DIR, \"timeseries\", \"forcing_analysis_assim\", \"*.parquet\"),\n",
    "    secondary_filepath=Path(CACHE_DIR, \"timeseries\", \"forcing_medium_range\", \"*.parquet\"),\n",
    "    crosswalk_filepath=Path(CACHE_DIR, \"geo\", \"huc10_huc10_crosswalk.parquet\"),\n",
    "    geometry_filepath=Path(CACHE_DIR, \"geo\", \"huc10_geometry.parquet\"),\n",
    ")\n",
    "# short range streamflow forecast evaluation files \n",
    "SRF_streamflow = dict(\n",
    "    scenario_name=\"short_range\",\n",
    "    variable=\"streamflow\",\n",
    "    primary_filepath=MRF_streamflow[\"primary_filepath\"],\n",
    "    secondary_filepath=Path(CACHE_DIR, \"timeseries\", \"short_range\", \"*.parquet\"),\n",
    "    crosswalk_filepath=MRF_streamflow[\"crosswalk_filepath\"],\n",
    "    geometry_filepath=MRF_streamflow[\"geometry_filepath\"],\n",
    ")\n",
    "# medium range precip forecast evaluation files\n",
    "SRF_forcing = dict(\n",
    "    scenario_name=\"short_range\",\n",
    "    variable=\"precipitation\",    \n",
    "    primary_filepath=MRF_forcing[\"primary_filepath\"],\n",
    "    secondary_filepath=Path(CACHE_DIR, \"timeseries\", \"forcing_short_range\", \"*.parquet\"),\n",
    "    crosswalk_filepath=MRF_forcing[\"crosswalk_filepath\"],\n",
    "    geometry_filepath=MRF_forcing[\"geometry_filepath\"],\n",
    ")\n",
    "attribute_paths = dict(\n",
    "    usgs_upstream_area=Path(CACHE_DIR, \"geo\", \"usgs_attr_upstream_area.parquet\"),\n",
    "    usgs_ecoregions=Path(CACHE_DIR, \"geo\", \"usgs_attr_ecoregions.parquet\"),\n",
    "    usgs_stream_order=Path(CACHE_DIR, \"geo\", \"usgs_attr_stream_order.parquet\"),\n",
    "    usgs_huc_crosswalk=Path(CACHE_DIR, \"geo\", \"usgs_huc12_crosswalk.parquet\"),\n",
    ")\n",
    "\n",
    "# put the scenarios in a list for widget purposes\n",
    "scenario_definitions = [MRF_streamflow, MRF_forcing, SRF_streamflow, SRF_forcing]\n",
    "\n",
    "## general units ('english' or 'metric') to show in visualization\n",
    "viz_units = \"metric\"\n",
    "\n",
    "gage_basins_filepath = Path(CACHE_DIR, \"geo\", \"gage_basins.parquet\")\n",
    "gage_basins_gdf = gpd.read_parquet(gage_basins_filepath).to_crs(\"EPSG:3857\")"
   ]
  },
  {
   "cell_type": "markdown",
   "id": "fa283fae-31fb-4ac4-b3ba-cc664292a389",
   "metadata": {},
   "source": [
    "### Select the forecast scenario and time periods.\n",
    "\n",
    "Similar to prior examples, use widgets to select the NWM scenario and event date range for the evaluation.  In this example the HUC2 region and reference time widgets are included in the dashboard."
   ]
  },
  {
   "cell_type": "code",
   "execution_count": null,
   "id": "ef6c8612-2d22-4ebc-b506-fae997f2c142",
   "metadata": {},
   "outputs": [],
   "source": [
    "scenario_selector = du.get_scenario_selector(scenario_name_list=sorted(du.get_scenario_names(scenario_definitions))) \n",
    "value_time_slider = du.get_value_time_slider(scenario_definitions)\n",
    "pn.Column(pn.Spacer(height=10),\n",
    "          pn.Row(scenario_selector, pn.Spacer(width=20), value_time_slider, width = 1000))"
   ]
  },
  {
   "cell_type": "markdown",
   "id": "7ffb0b3d-e116-4bfa-9057-1e4cefbffeae",
   "metadata": {
    "tags": []
   },
   "source": [
    "### Explore forecast data, one forecast at a time"
   ]
  },
  {
   "cell_type": "code",
   "execution_count": null,
   "id": "88fbaa6e-147e-4396-bf1e-dfb5219e1ea0",
   "metadata": {},
   "outputs": [],
   "source": [
    "include_metrics=['max_perc_diff','max_time_diff']\n",
    "layout = du.post_event_dashboard_2(\n",
    "    scenario_definitions,\n",
    "    scenario_selector,\n",
    "    value_time_slider,\n",
    "    attribute_paths,\n",
    "    include_metrics,\n",
    "    viz_units,\n",
    "    gage_basins_gdf,\n",
    ")\n",
    "layout"
   ]
  }
 ],
 "metadata": {
  "kernelspec": {
   "display_name": "Python 3 (ipykernel)",
   "language": "python",
   "name": "python3"
  },
  "language_info": {
   "codemirror_mode": {
    "name": "ipython",
    "version": 3
   },
   "file_extension": ".py",
   "mimetype": "text/x-python",
   "name": "python",
   "nbconvert_exporter": "python",
   "pygments_lexer": "ipython3",
   "version": "3.10.8"
  }
 },
 "nbformat": 4,
 "nbformat_minor": 5
}
>>>>>>> acd19c6 (post event updates)
