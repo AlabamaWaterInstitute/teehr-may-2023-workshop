version https://git-lfs.github.com/spec/v1
oid sha256:300744697c5ee1383338570141fa01bc0bee300f88ae82b76f4c6fd0ac375e0c
size 7662106
