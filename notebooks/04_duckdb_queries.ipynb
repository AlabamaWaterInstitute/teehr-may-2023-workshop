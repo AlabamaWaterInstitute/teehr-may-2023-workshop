version https://git-lfs.github.com/spec/v1
oid sha256:baed0a1368d3ead6ec85691054e936bdd4bb2d7dc6e473b9ec6414c2766f04a8
size 21650
