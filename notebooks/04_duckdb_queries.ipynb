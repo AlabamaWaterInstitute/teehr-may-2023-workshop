version https://git-lfs.github.com/spec/v1
oid sha256:02097fb8129e9cad11b1256c7fe9d0a2cd3ec369cc1c14138f39f3226d436211
size 21649
