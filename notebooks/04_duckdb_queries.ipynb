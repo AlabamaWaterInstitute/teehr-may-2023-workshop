{
 "cells": [
  {
   "cell_type": "markdown",
   "id": "29926ab4-066b-46e8-992c-6795bb9e1d5f",
   "metadata": {},
   "source": [
    "# 03 - DuckDB Queries\n",
    "DuckDB is an in-process SQL OLAP database management system. [duckdb.org](http://duckdb.org)\n",
    "\n",
    "With the `timeseries`, `geomerty`, `crosswalk` and `attribute` table data stored in Parquet files, using DuckDB, we can explore the data using SQL.\n",
    "\n",
    "NOTE: The example code provided is not safe from SQL injection.  It is provided to demonstrate the power of DuckDB to query data stored in Parquet files. Also, this is not a web service, so their is no risk in this case."
   ]
  },
  {
   "cell_type": "code",
   "execution_count": 1,
   "id": "6a7319ff-a0a8-49b0-a3da-06f1be57c399",
   "metadata": {},
   "outputs": [],
   "source": [
    "# Import required libraries\n",
    "import duckdb\n",
    "from pathlib import Path"
   ]
  },
  {
   "cell_type": "code",
   "execution_count": 2,
   "id": "54bc33cd-7c8b-45a8-b391-be299477d3dd",
   "metadata": {},
   "outputs": [],
   "source": [
    "# Again. set some files paths\n",
    "CACHE_DIR = Path(Path.home(), \"shared\", \"teehr-workshop\")\n",
    "STUDY_DIR = Path(CACHE_DIR, \"post-event-example\")\n",
    "USGS = Path(STUDY_DIR, \"timeseries/usgs/*.parquet\")\n",
    "MEDIUM_RANGE_MEM1 = Path(STUDY_DIR, \"timeseries/medium_range_mem1/*.parquet\")\n",
    "SHORT_RANGE = Path(STUDY_DIR, \"timeseries/short_range/*.parquet\")\n",
    "CROSSWALK = Path(STUDY_DIR, \"geo/usgs_nwm22_crosswalk.parquet\")\n",
    "GEOMETRY = Path(STUDY_DIR, \"geo/usgs_geometry.parquet\")"
   ]
  },
  {
   "cell_type": "markdown",
   "id": "325138a6-7a74-4541-a2b4-7d7b1c4bac2d",
   "metadata": {},
   "source": [
    "To demonstrate how DuckDB can be used to query the Parquet fioles, we will write and execute a few simple SQL queries. First, lets just see how many rows are in one of the timeseries \"tables\"."
   ]
  },
  {
   "cell_type": "code",
   "execution_count": 3,
   "id": "e7c5d392-22df-4cfd-9957-24033e909ed6",
   "metadata": {},
   "outputs": [
    {
     "data": {
      "text/html": [
       "<div>\n",
       "<style scoped>\n",
       "    .dataframe tbody tr th:only-of-type {\n",
       "        vertical-align: middle;\n",
       "    }\n",
       "\n",
       "    .dataframe tbody tr th {\n",
       "        vertical-align: top;\n",
       "    }\n",
       "\n",
       "    .dataframe thead th {\n",
       "        text-align: right;\n",
       "    }\n",
       "</style>\n",
       "<table border=\"1\" class=\"dataframe\">\n",
       "  <thead>\n",
       "    <tr style=\"text-align: right;\">\n",
       "      <th></th>\n",
       "      <th>count_star()</th>\n",
       "    </tr>\n",
       "  </thead>\n",
       "  <tbody>\n",
       "    <tr>\n",
       "      <th>0</th>\n",
       "      <td>230227200</td>\n",
       "    </tr>\n",
       "  </tbody>\n",
       "</table>\n",
       "</div>"
      ],
      "text/plain": [
       "   count_star()\n",
       "0     230227200"
      ]
     },
     "execution_count": 3,
     "metadata": {},
     "output_type": "execute_result"
    }
   ],
   "source": [
    "duckdb.query(f\"\"\"\n",
    "    SELECT count(*) FROM read_parquet('{MEDIUM_RANGE_MEM1}')\n",
    ";\"\"\").to_df()"
   ]
  },
  {
   "cell_type": "markdown",
   "id": "d90c9c63-09c6-4a6f-a983-93f0eaf8ed1d",
   "metadata": {},
   "source": [
    "Now lets see how many unique `referece_times` are in the timeseries table."
   ]
  },
  {
   "cell_type": "code",
   "execution_count": 4,
   "id": "f440ee8d-d253-4c3b-8fdf-bf2fd72ae874",
   "metadata": {},
   "outputs": [
    {
     "data": {
      "application/vnd.jupyter.widget-view+json": {
       "model_id": "4f0483990bbb46b08411da710d75208e",
       "version_major": 2,
       "version_minor": 0
      },
      "text/plain": [
       "FloatProgress(value=0.0, layout=Layout(width='100%'), style=ProgressStyle(bar_color='black'))"
      ]
     },
     "metadata": {},
     "output_type": "display_data"
    },
    {
     "data": {
      "text/html": [
       "<div>\n",
       "<style scoped>\n",
       "    .dataframe tbody tr th:only-of-type {\n",
       "        vertical-align: middle;\n",
       "    }\n",
       "\n",
       "    .dataframe tbody tr th {\n",
       "        vertical-align: top;\n",
       "    }\n",
       "\n",
       "    .dataframe thead th {\n",
       "        text-align: right;\n",
       "    }\n",
       "</style>\n",
       "<table border=\"1\" class=\"dataframe\">\n",
       "  <thead>\n",
       "    <tr style=\"text-align: right;\">\n",
       "      <th></th>\n",
       "      <th>count(DISTINCT reference_time)</th>\n",
       "    </tr>\n",
       "  </thead>\n",
       "  <tbody>\n",
       "    <tr>\n",
       "      <th>0</th>\n",
       "      <td>120</td>\n",
       "    </tr>\n",
       "  </tbody>\n",
       "</table>\n",
       "</div>"
      ],
      "text/plain": [
       "   count(DISTINCT reference_time)\n",
       "0                             120"
      ]
     },
     "execution_count": 4,
     "metadata": {},
     "output_type": "execute_result"
    }
   ],
   "source": [
    "duckdb.query(f\"\"\"\n",
    "    SELECT count(DISTINCT reference_time) \n",
    "    FROM read_parquet('{MEDIUM_RANGE_MEM1}')\n",
    ";\"\"\").to_df()"
   ]
  },
  {
   "cell_type": "markdown",
   "id": "75b480c5-b66a-40b2-a85c-39f78b4dab59",
   "metadata": {},
   "source": [
    "How about getting those `reference_times` as a dataframe"
   ]
  },
  {
   "cell_type": "code",
   "execution_count": 5,
   "id": "abf03651-3815-4126-a4b0-1e4a6d02e82e",
   "metadata": {},
   "outputs": [
    {
     "data": {
      "application/vnd.jupyter.widget-view+json": {
       "model_id": "5891d45971b14fc9b713cba414d274bf",
       "version_major": 2,
       "version_minor": 0
      },
      "text/plain": [
       "FloatProgress(value=0.0, layout=Layout(width='100%'), style=ProgressStyle(bar_color='black'))"
      ]
     },
     "metadata": {},
     "output_type": "display_data"
    },
    {
     "data": {
      "text/html": [
       "<div>\n",
       "<style scoped>\n",
       "    .dataframe tbody tr th:only-of-type {\n",
       "        vertical-align: middle;\n",
       "    }\n",
       "\n",
       "    .dataframe tbody tr th {\n",
       "        vertical-align: top;\n",
       "    }\n",
       "\n",
       "    .dataframe thead th {\n",
       "        text-align: right;\n",
       "    }\n",
       "</style>\n",
       "<table border=\"1\" class=\"dataframe\">\n",
       "  <thead>\n",
       "    <tr style=\"text-align: right;\">\n",
       "      <th></th>\n",
       "      <th>reference_time</th>\n",
       "    </tr>\n",
       "  </thead>\n",
       "  <tbody>\n",
       "    <tr>\n",
       "      <th>0</th>\n",
       "      <td>2022-12-29 06:00:00</td>\n",
       "    </tr>\n",
       "    <tr>\n",
       "      <th>1</th>\n",
       "      <td>2022-12-24 00:00:00</td>\n",
       "    </tr>\n",
       "    <tr>\n",
       "      <th>2</th>\n",
       "      <td>2022-12-29 12:00:00</td>\n",
       "    </tr>\n",
       "    <tr>\n",
       "      <th>3</th>\n",
       "      <td>2023-01-08 00:00:00</td>\n",
       "    </tr>\n",
       "    <tr>\n",
       "      <th>4</th>\n",
       "      <td>2022-12-18 18:00:00</td>\n",
       "    </tr>\n",
       "    <tr>\n",
       "      <th>...</th>\n",
       "      <td>...</td>\n",
       "    </tr>\n",
       "    <tr>\n",
       "      <th>115</th>\n",
       "      <td>2022-12-20 18:00:00</td>\n",
       "    </tr>\n",
       "    <tr>\n",
       "      <th>116</th>\n",
       "      <td>2023-01-02 06:00:00</td>\n",
       "    </tr>\n",
       "    <tr>\n",
       "      <th>117</th>\n",
       "      <td>2023-01-06 18:00:00</td>\n",
       "    </tr>\n",
       "    <tr>\n",
       "      <th>118</th>\n",
       "      <td>2023-01-04 12:00:00</td>\n",
       "    </tr>\n",
       "    <tr>\n",
       "      <th>119</th>\n",
       "      <td>2022-12-22 12:00:00</td>\n",
       "    </tr>\n",
       "  </tbody>\n",
       "</table>\n",
       "<p>120 rows × 1 columns</p>\n",
       "</div>"
      ],
      "text/plain": [
       "         reference_time\n",
       "0   2022-12-29 06:00:00\n",
       "1   2022-12-24 00:00:00\n",
       "2   2022-12-29 12:00:00\n",
       "3   2023-01-08 00:00:00\n",
       "4   2022-12-18 18:00:00\n",
       "..                  ...\n",
       "115 2022-12-20 18:00:00\n",
       "116 2023-01-02 06:00:00\n",
       "117 2023-01-06 18:00:00\n",
       "118 2023-01-04 12:00:00\n",
       "119 2022-12-22 12:00:00\n",
       "\n",
       "[120 rows x 1 columns]"
      ]
     },
     "execution_count": 5,
     "metadata": {},
     "output_type": "execute_result"
    }
   ],
   "source": [
    "duckdb.query(f\"\"\"\n",
    "    SELECT DISTINCT reference_time \n",
    "    FROM read_parquet('{MEDIUM_RANGE_MEM1}')\n",
    ";\"\"\").to_df()"
   ]
  },
  {
   "cell_type": "markdown",
   "id": "7c597564-8221-4a11-bd62-9b14d3ab0366",
   "metadata": {},
   "source": [
    "Now, lets see a single row from from the timeseries data."
   ]
  },
  {
   "cell_type": "code",
   "execution_count": 6,
   "id": "e346fe3c-6127-4422-ade2-f1e7ef833496",
   "metadata": {},
   "outputs": [
    {
     "name": "stdout",
     "output_type": "stream",
     "text": [
      "CPU times: user 28.9 ms, sys: 38.1 ms, total: 67 ms\n",
      "Wall time: 146 ms\n"
     ]
    },
    {
     "data": {
      "text/html": [
       "<div>\n",
       "<style scoped>\n",
       "    .dataframe tbody tr th:only-of-type {\n",
       "        vertical-align: middle;\n",
       "    }\n",
       "\n",
       "    .dataframe tbody tr th {\n",
       "        vertical-align: top;\n",
       "    }\n",
       "\n",
       "    .dataframe thead th {\n",
       "        text-align: right;\n",
       "    }\n",
       "</style>\n",
       "<table border=\"1\" class=\"dataframe\">\n",
       "  <thead>\n",
       "    <tr style=\"text-align: right;\">\n",
       "      <th></th>\n",
       "      <th>value_time</th>\n",
       "      <th>location_id</th>\n",
       "      <th>value</th>\n",
       "      <th>measurement_unit</th>\n",
       "      <th>reference_time</th>\n",
       "      <th>configuration</th>\n",
       "      <th>variable_name</th>\n",
       "      <th>__index_level_0__</th>\n",
       "    </tr>\n",
       "  </thead>\n",
       "  <tbody>\n",
       "    <tr>\n",
       "      <th>0</th>\n",
       "      <td>2023-01-02 17:00:00</td>\n",
       "      <td>nwm22-7086109</td>\n",
       "      <td>0.22</td>\n",
       "      <td>m3/s</td>\n",
       "      <td>2023-01-02 16:00:00</td>\n",
       "      <td>short_range</td>\n",
       "      <td>streamflow</td>\n",
       "      <td>0</td>\n",
       "    </tr>\n",
       "  </tbody>\n",
       "</table>\n",
       "</div>"
      ],
      "text/plain": [
       "           value_time    location_id  value measurement_unit  \\\n",
       "0 2023-01-02 17:00:00  nwm22-7086109   0.22             m3/s   \n",
       "\n",
       "       reference_time configuration variable_name  __index_level_0__  \n",
       "0 2023-01-02 16:00:00   short_range    streamflow                  0  "
      ]
     },
     "execution_count": 6,
     "metadata": {},
     "output_type": "execute_result"
    }
   ],
   "source": [
    "%%time\n",
    "duckdb.query(f\"\"\"\n",
    "    SELECT * FROM read_parquet('{SHORT_RANGE}') LIMIT 1;\n",
    "\"\"\").to_df()"
   ]
  },
  {
   "cell_type": "code",
   "execution_count": 7,
   "id": "9f7233e2-ca9e-421b-9d34-7f9cf2835878",
   "metadata": {},
   "outputs": [
    {
     "name": "stdout",
     "output_type": "stream",
     "text": [
      "CPU times: user 140 ms, sys: 138 ms, total: 278 ms\n",
      "Wall time: 543 ms\n"
     ]
    },
    {
     "data": {
      "text/html": [
       "<div>\n",
       "<style scoped>\n",
       "    .dataframe tbody tr th:only-of-type {\n",
       "        vertical-align: middle;\n",
       "    }\n",
       "\n",
       "    .dataframe tbody tr th {\n",
       "        vertical-align: top;\n",
       "    }\n",
       "\n",
       "    .dataframe thead th {\n",
       "        text-align: right;\n",
       "    }\n",
       "</style>\n",
       "<table border=\"1\" class=\"dataframe\">\n",
       "  <thead>\n",
       "    <tr style=\"text-align: right;\">\n",
       "      <th></th>\n",
       "      <th>value_time</th>\n",
       "      <th>location_id</th>\n",
       "      <th>value</th>\n",
       "      <th>measurement_unit</th>\n",
       "      <th>reference_time</th>\n",
       "      <th>configuration</th>\n",
       "      <th>variable_name</th>\n",
       "      <th>__index_level_0__</th>\n",
       "    </tr>\n",
       "  </thead>\n",
       "  <tbody>\n",
       "    <tr>\n",
       "      <th>0</th>\n",
       "      <td>2023-01-02 17:00:00</td>\n",
       "      <td>nwm22-7086109</td>\n",
       "      <td>0.22</td>\n",
       "      <td>m3/s</td>\n",
       "      <td>2023-01-02 16:00:00</td>\n",
       "      <td>short_range</td>\n",
       "      <td>streamflow</td>\n",
       "      <td>0</td>\n",
       "    </tr>\n",
       "  </tbody>\n",
       "</table>\n",
       "</div>"
      ],
      "text/plain": [
       "           value_time    location_id  value measurement_unit  \\\n",
       "0 2023-01-02 17:00:00  nwm22-7086109   0.22             m3/s   \n",
       "\n",
       "       reference_time configuration variable_name  __index_level_0__  \n",
       "0 2023-01-02 16:00:00   short_range    streamflow                  0  "
      ]
     },
     "execution_count": 7,
     "metadata": {},
     "output_type": "execute_result"
    }
   ],
   "source": [
    "%%time\n",
    "duckdb.query(f\"\"\"\n",
    "    SELECT * FROM \n",
    "        read_parquet('{SHORT_RANGE}')\n",
    "    WHERE \n",
    "        location_id = 'nwm22-7086109'\n",
    "        AND value_time = '2023-01-02 17:00:00'\n",
    "        AND reference_time = '2023-01-02 16:00:00'\n",
    ";\"\"\").to_df()"
   ]
  },
  {
   "cell_type": "markdown",
   "id": "db3618f5-39b9-46d9-8f4b-d2c9a96ac6df",
   "metadata": {},
   "source": [
    "Now, lets do something a little more complex just to show the power of SQL.  Lets join the observed USGS data to the short range forecast data and select a single forecast."
   ]
  },
  {
   "cell_type": "code",
   "execution_count": 9,
   "id": "d2294fcd-e037-4317-b2e7-7cee52060b48",
   "metadata": {},
   "outputs": [
    {
     "name": "stdout",
     "output_type": "stream",
     "text": [
      "CPU times: user 602 ms, sys: 131 ms, total: 733 ms\n",
      "Wall time: 642 ms\n"
     ]
    },
    {
     "data": {
      "text/html": [
       "<div>\n",
       "<style scoped>\n",
       "    .dataframe tbody tr th:only-of-type {\n",
       "        vertical-align: middle;\n",
       "    }\n",
       "\n",
       "    .dataframe tbody tr th {\n",
       "        vertical-align: top;\n",
       "    }\n",
       "\n",
       "    .dataframe thead th {\n",
       "        text-align: right;\n",
       "    }\n",
       "</style>\n",
       "<table border=\"1\" class=\"dataframe\">\n",
       "  <thead>\n",
       "    <tr style=\"text-align: right;\">\n",
       "      <th></th>\n",
       "      <th>primary_location_id</th>\n",
       "      <th>secondary_location_id</th>\n",
       "      <th>reference_time</th>\n",
       "      <th>value_time</th>\n",
       "      <th>primary_value</th>\n",
       "      <th>secondary_value</th>\n",
       "    </tr>\n",
       "  </thead>\n",
       "  <tbody>\n",
       "    <tr>\n",
       "      <th>0</th>\n",
       "      <td>usgs-10336676</td>\n",
       "      <td>nwm22-8941685</td>\n",
       "      <td>2023-01-02 16:00:00</td>\n",
       "      <td>2023-01-03 10:00:00</td>\n",
       "      <td>1.087367</td>\n",
       "      <td>0.04</td>\n",
       "    </tr>\n",
       "    <tr>\n",
       "      <th>1</th>\n",
       "      <td>usgs-10336676</td>\n",
       "      <td>nwm22-8941685</td>\n",
       "      <td>2023-01-02 16:00:00</td>\n",
       "      <td>2023-01-03 09:00:00</td>\n",
       "      <td>1.121347</td>\n",
       "      <td>0.04</td>\n",
       "    </tr>\n",
       "    <tr>\n",
       "      <th>2</th>\n",
       "      <td>usgs-10336676</td>\n",
       "      <td>nwm22-8941685</td>\n",
       "      <td>2023-01-02 16:00:00</td>\n",
       "      <td>2023-01-03 08:00:00</td>\n",
       "      <td>1.121347</td>\n",
       "      <td>0.05</td>\n",
       "    </tr>\n",
       "    <tr>\n",
       "      <th>3</th>\n",
       "      <td>usgs-10336676</td>\n",
       "      <td>nwm22-8941685</td>\n",
       "      <td>2023-01-02 16:00:00</td>\n",
       "      <td>2023-01-03 07:00:00</td>\n",
       "      <td>1.155327</td>\n",
       "      <td>0.06</td>\n",
       "    </tr>\n",
       "    <tr>\n",
       "      <th>4</th>\n",
       "      <td>usgs-10336676</td>\n",
       "      <td>nwm22-8941685</td>\n",
       "      <td>2023-01-02 16:00:00</td>\n",
       "      <td>2023-01-03 06:00:00</td>\n",
       "      <td>1.155327</td>\n",
       "      <td>0.08</td>\n",
       "    </tr>\n",
       "    <tr>\n",
       "      <th>5</th>\n",
       "      <td>usgs-10336676</td>\n",
       "      <td>nwm22-8941685</td>\n",
       "      <td>2023-01-02 16:00:00</td>\n",
       "      <td>2023-01-03 05:00:00</td>\n",
       "      <td>1.189308</td>\n",
       "      <td>0.10</td>\n",
       "    </tr>\n",
       "    <tr>\n",
       "      <th>6</th>\n",
       "      <td>usgs-10336676</td>\n",
       "      <td>nwm22-8941685</td>\n",
       "      <td>2023-01-02 16:00:00</td>\n",
       "      <td>2023-01-03 04:00:00</td>\n",
       "      <td>1.189308</td>\n",
       "      <td>0.13</td>\n",
       "    </tr>\n",
       "    <tr>\n",
       "      <th>7</th>\n",
       "      <td>usgs-10336676</td>\n",
       "      <td>nwm22-8941685</td>\n",
       "      <td>2023-01-02 16:00:00</td>\n",
       "      <td>2023-01-03 03:00:00</td>\n",
       "      <td>1.189308</td>\n",
       "      <td>0.17</td>\n",
       "    </tr>\n",
       "    <tr>\n",
       "      <th>8</th>\n",
       "      <td>usgs-10336676</td>\n",
       "      <td>nwm22-8941685</td>\n",
       "      <td>2023-01-02 16:00:00</td>\n",
       "      <td>2023-01-03 02:00:00</td>\n",
       "      <td>1.226119</td>\n",
       "      <td>0.22</td>\n",
       "    </tr>\n",
       "    <tr>\n",
       "      <th>9</th>\n",
       "      <td>usgs-10336676</td>\n",
       "      <td>nwm22-8941685</td>\n",
       "      <td>2023-01-02 16:00:00</td>\n",
       "      <td>2023-01-03 01:00:00</td>\n",
       "      <td>1.226119</td>\n",
       "      <td>0.29</td>\n",
       "    </tr>\n",
       "  </tbody>\n",
       "</table>\n",
       "</div>"
      ],
      "text/plain": [
       "  primary_location_id secondary_location_id      reference_time  \\\n",
       "0       usgs-10336676         nwm22-8941685 2023-01-02 16:00:00   \n",
       "1       usgs-10336676         nwm22-8941685 2023-01-02 16:00:00   \n",
       "2       usgs-10336676         nwm22-8941685 2023-01-02 16:00:00   \n",
       "3       usgs-10336676         nwm22-8941685 2023-01-02 16:00:00   \n",
       "4       usgs-10336676         nwm22-8941685 2023-01-02 16:00:00   \n",
       "5       usgs-10336676         nwm22-8941685 2023-01-02 16:00:00   \n",
       "6       usgs-10336676         nwm22-8941685 2023-01-02 16:00:00   \n",
       "7       usgs-10336676         nwm22-8941685 2023-01-02 16:00:00   \n",
       "8       usgs-10336676         nwm22-8941685 2023-01-02 16:00:00   \n",
       "9       usgs-10336676         nwm22-8941685 2023-01-02 16:00:00   \n",
       "\n",
       "           value_time  primary_value  secondary_value  \n",
       "0 2023-01-03 10:00:00       1.087367             0.04  \n",
       "1 2023-01-03 09:00:00       1.121347             0.04  \n",
       "2 2023-01-03 08:00:00       1.121347             0.05  \n",
       "3 2023-01-03 07:00:00       1.155327             0.06  \n",
       "4 2023-01-03 06:00:00       1.155327             0.08  \n",
       "5 2023-01-03 05:00:00       1.189308             0.10  \n",
       "6 2023-01-03 04:00:00       1.189308             0.13  \n",
       "7 2023-01-03 03:00:00       1.189308             0.17  \n",
       "8 2023-01-03 02:00:00       1.226119             0.22  \n",
       "9 2023-01-03 01:00:00       1.226119             0.29  "
      ]
     },
     "execution_count": 9,
     "metadata": {},
     "output_type": "execute_result"
    }
   ],
   "source": [
    "%%time\n",
    "duckdb.query(f\"\"\"\n",
    "    SELECT \n",
    "        u.location_id as primary_location_id,\n",
    "        sr.location_id as secondary_location_id,\n",
    "        sr.reference_time as reference_time,\n",
    "        u.value_time as value_time,\n",
    "        u.value as primary_value,\n",
    "        sr.value as secondary_value,\n",
    "    FROM read_parquet('{SHORT_RANGE}') sr\n",
    "    JOIN read_parquet('{CROSSWALK}') cw \n",
    "        ON sr.location_id = cw.secondary_location_id \n",
    "    JOIN read_parquet('{USGS}') u \n",
    "        ON cw.primary_location_id = u.location_id\n",
    "        AND sr.value_time = u.value_time\n",
    "    WHERE\n",
    "        primary_location_id = 'usgs-10336676' AND\n",
    "        sr.reference_time = '2023-01-02 16:00:00' AND\n",
    "        primary_value > 0\n",
    "    ORDER BY \n",
    "        sr.value_time DESC\n",
    "    LIMIT 10;\n",
    "\"\"\").to_df()"
   ]
  },
  {
   "cell_type": "markdown",
   "id": "a8357089-cbe4-4d93-962b-e744da60e66e",
   "metadata": {},
   "source": [
    "This starts to get trciky as the queries get more complex.  This is where TEEHR queries library comes in.\n",
    "![teehr.png](../images/teehr.png)"
   ]
  }
 ],
 "metadata": {
  "kernelspec": {
   "display_name": "Python 3 (ipykernel)",
   "language": "python",
   "name": "python3"
  },
  "language_info": {
   "codemirror_mode": {
    "name": "ipython",
    "version": 3
   },
   "file_extension": ".py",
   "mimetype": "text/x-python",
   "name": "python",
   "nbconvert_exporter": "python",
   "pygments_lexer": "ipython3",
   "version": "3.10.8"
  }
 },
 "nbformat": 4,
 "nbformat_minor": 5
}
