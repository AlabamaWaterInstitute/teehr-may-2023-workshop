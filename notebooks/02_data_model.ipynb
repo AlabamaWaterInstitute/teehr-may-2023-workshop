version https://git-lfs.github.com/spec/v1
oid sha256:e2ddd1ddf07f1115e98f2c399e724a47f5223a6395dff901eb00dba470d43a61
size 7636541
