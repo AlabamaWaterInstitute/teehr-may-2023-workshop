{
 "cells": [
  {
   "cell_type": "markdown",
   "id": "c5f2d507-6800-4f41-8cf5-6dc0e14757da",
   "metadata": {},
   "source": [
    "# 02 - The Data Model\n",
    "In this module we will explore the TEEHR data model and file formats.  The idea is that a scientist or researcher would format their data to the TEEHR data model and cache it for exploration and evaluation.  The data model is intended to be simple to understand and to get data into.\n",
    "\n",
    "![data_model.png](../images/data_model.png)\n",
    "\n",
    "NOTE: "
   ]
  },
  {
   "cell_type": "code",
   "execution_count": null,
   "id": "f70fbb5a-3dd9-49c5-b8c0-8daa5eb6ffec",
   "metadata": {},
   "outputs": [],
   "source": [
    "import duckdb\n",
    "import pandas as pd\n",
    "import geopandas as gpd\n",
    "import hvplot.pandas\n",
    "from pathlib import Path"
   ]
  },
  {
   "cell_type": "markdown",
   "id": "eada3943-847b-4d8d-9ffd-d2d8a9a65877",
   "metadata": {},
   "source": [
    "# Explore the Data Model\n",
    "Lets first specify an example timeseries, geospatial data, crosswalk data and attribute data cache file. We will explore each file one at a time, examining the data model, the Parquet schema, what it looks like when opened in Pandas, and ean examples of the data."
   ]
  },
  {
   "cell_type": "code",
   "execution_count": null,
   "id": "901285a7-dc94-4385-b528-da6823adfdf6",
   "metadata": {},
   "outputs": [],
   "source": [
    "CACHE_DIR = Path(Path.home(), \"shared\", \"rti-eval\")\n",
    "STUDY_DIR = Path(CACHE_DIR, \"post-event-example\")\n",
    "GEOMETRY = Path(STUDY_DIR, \"geo\", \"usgs_geometry.parquet\")\n",
    "TIMESERIES = Path(STUDY_DIR, \"timeseries\", \"short_range\", \"20221218T00Z.parquet\")\n",
    "CROSSWALK = Path(STUDY_DIR, \"geo\", \"usgs_nwm22_crosswalk.parquet\")\n",
    "ATTRIBUTE = Path(STUDY_DIR, \"geo\", \"usgs_attr_upstream_area.parquet\")"
   ]
  },
  {
   "cell_type": "markdown",
   "id": "0211febb",
   "metadata": {},
   "source": [
    "### Geometry"
   ]
  },
  {
   "cell_type": "code",
   "execution_count": null,
   "id": "fa597603-6e0d-45b2-b433-e25bdc97c943",
   "metadata": {},
   "outputs": [],
   "source": [
    "duckdb.query(f\"SELECT name, type, logical_type FROM parquet_schema('{GEOMETRY}')\")"
   ]
  },
  {
   "cell_type": "code",
   "execution_count": null,
   "id": "ee6adb70-648d-4f9d-884b-e2ba92aaf385",
   "metadata": {},
   "outputs": [],
   "source": [
    "geom_gdf = gpd.read_parquet(GEOMETRY)\n",
    "geom_gdf.info()"
   ]
  },
  {
   "cell_type": "code",
   "execution_count": null,
   "id": "d5d46ad3",
   "metadata": {},
   "outputs": [],
   "source": [
    "geom_gdf.head()"
   ]
  },
  {
   "cell_type": "markdown",
   "id": "9e2d0183",
   "metadata": {},
   "source": [
    "### Attribute"
   ]
  },
  {
   "cell_type": "code",
   "execution_count": null,
   "id": "707d3b2d",
   "metadata": {},
   "outputs": [],
   "source": [
    "duckdb.query(f\"SELECT name, type, logical_type FROM parquet_schema('{ATTRIBUTE}')\")"
   ]
  },
  {
   "cell_type": "code",
   "execution_count": null,
   "id": "349cbe35",
   "metadata": {},
   "outputs": [],
   "source": [
    "attr_df = pd.read_parquet(ATTRIBUTE)\n",
    "attr_df.info()"
   ]
  },
  {
   "cell_type": "code",
   "execution_count": null,
   "id": "4724cdb6",
   "metadata": {},
   "outputs": [],
   "source": [
    "attr_df.head()"
   ]
  },
  {
   "cell_type": "markdown",
   "id": "694fcba6",
   "metadata": {},
   "source": [
    "### Crosswalk"
   ]
  },
  {
   "cell_type": "code",
   "execution_count": null,
   "id": "2efff87d",
   "metadata": {},
   "outputs": [],
   "source": [
    "duckdb.query(f\"SELECT name, type, logical_type FROM parquet_schema('{CROSSWALK}')\")"
   ]
  },
  {
   "cell_type": "code",
   "execution_count": null,
   "id": "6f407137",
   "metadata": {},
   "outputs": [],
   "source": [
    "xwalk_df = pd.read_parquet(CROSSWALK)\n",
    "xwalk_df.info()"
   ]
  },
  {
   "cell_type": "code",
   "execution_count": null,
   "id": "a0df8626",
   "metadata": {},
   "outputs": [],
   "source": [
    "xwalk_df.head()"
   ]
  },
  {
   "cell_type": "markdown",
   "id": "656519ba-9845-4cbe-967e-9d9bb354ee69",
   "metadata": {},
   "source": [
    "### Timeseries"
   ]
  },
  {
   "cell_type": "code",
   "execution_count": null,
   "id": "e0cf6765",
   "metadata": {},
   "outputs": [],
   "source": [
    "duckdb.query(f\"SELECT name, type, logical_type FROM parquet_schema('{TIMESERIES}')\")"
   ]
  },
  {
   "cell_type": "code",
   "execution_count": null,
   "id": "048f008a-7a98-4be9-98d6-213d407e1066",
   "metadata": {},
   "outputs": [],
   "source": [
    "ts_df = pd.read_parquet(TIMESERIES)\n",
    "ts_df.info()"
   ]
  },
  {
   "cell_type": "code",
   "execution_count": null,
   "id": "10b475a0",
   "metadata": {},
   "outputs": [],
   "source": [
    "ts_df.head()"
   ]
  }
 ],
 "metadata": {
  "kernelspec": {
   "display_name": "Python 3 (ipykernel)",
   "language": "python",
   "name": "python3"
  },
  "language_info": {
   "codemirror_mode": {
    "name": "ipython",
    "version": 3
   },
   "file_extension": ".py",
   "mimetype": "text/x-python",
   "name": "python",
   "nbconvert_exporter": "python",
   "pygments_lexer": "ipython3",
   "version": "3.10.8"
  }
 },
 "nbformat": 4,
 "nbformat_minor": 5
}
