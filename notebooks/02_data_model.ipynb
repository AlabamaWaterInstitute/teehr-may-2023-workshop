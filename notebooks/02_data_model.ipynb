version https://git-lfs.github.com/spec/v1
oid sha256:f6d916f65f5e1d137ce012535e88cbbbd0eedbcd0b0e01f89958588f3b446860
size 7636394
