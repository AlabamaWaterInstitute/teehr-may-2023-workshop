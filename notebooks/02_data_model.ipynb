version https://git-lfs.github.com/spec/v1
oid sha256:cb47c1aa1c61912557348acdfe535dfa84f732a3e66312533e286989b6b483a0
size 7636557
