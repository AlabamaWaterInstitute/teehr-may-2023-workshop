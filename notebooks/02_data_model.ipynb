{
 "cells": [
  {
   "cell_type": "markdown",
   "id": "c5f2d507-6800-4f41-8cf5-6dc0e14757da",
   "metadata": {},
   "source": [
    "# 02 - The Data Cache\n",
    "In this module we will explore the cached data structure using DuckDB.  The timeseries, geospatial data, crosswalk data and attribute data was fetched from different sources, formatted to the TEEHER data model and cached for exploration and evaluation."
   ]
  },
  {
   "cell_type": "code",
   "execution_count": null,
   "id": "f70fbb5a-3dd9-49c5-b8c0-8daa5eb6ffec",
   "metadata": {},
   "outputs": [],
   "source": [
    "import duckdb\n",
    "from pathlib import Path"
   ]
  },
  {
   "cell_type": "markdown",
   "id": "0f8d8152-0b55-47cf-a42f-48cb52747a66",
   "metadata": {},
   "source": [
    "## Example study directory structure\n",
    "```text\n",
    ".\n",
    "├── geo\n",
    "│   ├── huc10_geometry.parquet\n",
    "│   ├── huc10_huc10_crosswalk.parquet\n",
    "│   ├── usgs_attr_ecoregions.parquet\n",
    "│   ├── usgs_attr_retro_100yr_flow.parquet\n",
    "│   ├── usgs_attr_retro_10yr_flow.parquet\n",
    "│   ├── usgs_attr_retro_2yr_flow.parquet\n",
    "│   ├── usgs_attr_stream_order.parquet\n",
    "│   ├── usgs_attr_upstream_area.parquet\n",
    "│   ├── usgs_geometry.parquet\n",
    "│   ├── usgs_huc12_crosswalk.parquet\n",
    "│   └── usgs_nwm22_crosswalk.parquet\n",
    "├── study_definition.json\n",
    "└── timeseries\n",
    "    ├── analysis_assim\n",
    "    │   ├── 20221217T21Z.parquet\n",
    "    │   ├── ...\n",
    "    │   └── 20230118T20Z.parquet\n",
    "    ├── forcing_analysis_assim\n",
    "    │   ├── 20221218.parquet\n",
    "    │   ├── ...\n",
    "    │   └── 20230126.parquet\n",
    "    ├── forcing_medium_range\n",
    "    │   ├── 20221218T00Z.parquet\n",
    "    │   ├── ...\n",
    "    │   └── 20230118T18Z.parquet\n",
    "    ├── forcing_short_range\n",
    "    │   ├── 20221218T00Z.parquet\n",
    "    │   ├── ...\n",
    "    │   └── 20230118T23Z.parquet\n",
    "    ├── medium_range_mem1\n",
    "    │   ├── 20221218T00Z.parquet\n",
    "    │   ├── ...\n",
    "    │   └── 20230116T18Z.parquet\n",
    "    ├── short_range\n",
    "    │   ├── 20221218T00Z.parquet\n",
    "    │   ├── ...\n",
    "    │   └── 20230118T23Z.parquet\n",
    "    └── usgs\n",
    "        ├── 20221218.parquet\n",
    "        ├── ...\n",
    "        └── 20230126.parquet\n",
    "```"
   ]
  },
  {
   "cell_type": "markdown",
   "id": "eada3943-847b-4d8d-9ffd-d2d8a9a65877",
   "metadata": {},
   "source": [
    "First we need to specify where the timeseries, geospatial data, crosswalk data and attribute data are cached."
   ]
  },
  {
   "cell_type": "code",
   "execution_count": null,
   "id": "901285a7-dc94-4385-b528-da6823adfdf6",
   "metadata": {},
   "outputs": [],
   "source": [
    "CACHE_DIR = Path(Path.home(), \"shared\", \"rti-eval\")\n",
    "STUDY_DIR = Path(CACHE_DIR, \"post-event-example\")\n",
    "MEDIUM_RANGE_MEM1 = Path(STUDY_DIR, \"timeseries\", \"medium_range_mem1\", \"*.parquet\")"
   ]
  },
  {
   "cell_type": "code",
   "execution_count": null,
   "id": "ee6adb70-648d-4f9d-884b-e2ba92aaf385",
   "metadata": {},
   "outputs": [],
   "source": [
    "duckdb.query(f\"\"\"\n",
    "    SELECT * FROM parquet_schema('{MEDIUM_RANGE_MEM1}')\n",
    ";\"\"\").df()"
   ]
  },
  {
   "cell_type": "code",
   "execution_count": null,
   "id": "fa597603-6e0d-45b2-b433-e25bdc97c943",
   "metadata": {},
   "outputs": [],
   "source": [
    "duckdb.query(f\"SELECT * FROM read_parquet('{MEDIUM_RANGE_MEM1}') LIMIT 1;\").df().info()"
   ]
  },
  {
   "cell_type": "code",
   "execution_count": null,
   "id": "048f008a-7a98-4be9-98d6-213d407e1066",
   "metadata": {},
   "outputs": [],
   "source": []
  }
 ],
 "metadata": {
  "kernelspec": {
   "display_name": "Python 3 (ipykernel)",
   "language": "python",
   "name": "python3"
  },
  "language_info": {
   "codemirror_mode": {
    "name": "ipython",
    "version": 3
   },
   "file_extension": ".py",
   "mimetype": "text/x-python",
   "name": "python",
   "nbconvert_exporter": "python",
   "pygments_lexer": "ipython3",
   "version": "3.10.8"
  }
 },
 "nbformat": 4,
 "nbformat_minor": 5
}
