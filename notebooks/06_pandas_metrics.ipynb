{
 "cells": [
  {
   "cell_type": "markdown",
   "id": "fa22c03d-bc64-4830-be08-1cac366632fc",
   "metadata": {},
   "source": [
    "# 06 - Pandas Metrics\n",
    "All the metrics can also be queried from the Parquet files using a combination of DuckDB to generate the filtered joined timeseries, and Pandas to Generate the metrics.  They generate the exact same results, and so far DuckDB is faster in most (all) cases.  The Pandas version serves as a check.  Also, we anticipate that we may need to generate some statictcs that either can't be done or is prohibitive to do in SQL."
   ]
  },
  {
   "cell_type": "code",
   "execution_count": 5,
   "id": "348c87bd-2bcd-45bc-9d8f-864d80ca03b9",
   "metadata": {},
   "outputs": [],
   "source": [
    "import teehr.queries.pandas as tqp\n",
    "from pathlib import Path"
   ]
  },
  {
   "cell_type": "code",
   "execution_count": 6,
   "id": "365ccf7c-4a55-47a3-9c6b-0666288d8168",
   "metadata": {},
   "outputs": [],
   "source": [
    "CACHE_DIR = Path(Path.home(), \"shared\", \"rti-eval\")\n",
    "STUDY_DIR = Path(CACHE_DIR, \"post-event-example\")\n",
    "USGS = Path(STUDY_DIR, \"timeseries/usgs/*.parquet\")\n",
    "MEDIUM_RANGE_MEM1 = Path(STUDY_DIR, \"timeseries/medium_range_mem1/*.parquet\")\n",
    "SHORT_RANGE = Path(STUDY_DIR, \"timeseries/short_range/*.parquet\")\n",
    "CROSSWALK = Path(STUDY_DIR, \"geo/usgs_nwm22_crosswalk.parquet\")\n",
    "GEOMETRY = Path(STUDY_DIR, \"geo/usgs_geometry.parquet\")"
   ]
  },
  {
   "cell_type": "code",
   "execution_count": 10,
   "id": "f33dc8dc-6ca3-4a66-81b0-328a63aa59a0",
   "metadata": {},
   "outputs": [
    {
     "name": "stdout",
     "output_type": "stream",
     "text": [
      "CPU times: user 801 ms, sys: 262 ms, total: 1.06 s\n",
      "Wall time: 644 ms\n"
     ]
    },
    {
     "data": {
      "text/html": [
       "<div>\n",
       "<style scoped>\n",
       "    .dataframe tbody tr th:only-of-type {\n",
       "        vertical-align: middle;\n",
       "    }\n",
       "\n",
       "    .dataframe tbody tr th {\n",
       "        vertical-align: top;\n",
       "    }\n",
       "\n",
       "    .dataframe thead th {\n",
       "        text-align: right;\n",
       "    }\n",
       "</style>\n",
       "<table border=\"1\" class=\"dataframe\">\n",
       "  <thead>\n",
       "    <tr style=\"text-align: right;\">\n",
       "      <th></th>\n",
       "      <th>0</th>\n",
       "      <th>1</th>\n",
       "      <th>2</th>\n",
       "    </tr>\n",
       "  </thead>\n",
       "  <tbody>\n",
       "    <tr>\n",
       "      <th>id</th>\n",
       "      <td>usgs-05129290</td>\n",
       "      <td>usgs-05129515</td>\n",
       "      <td>usgs-10336676</td>\n",
       "    </tr>\n",
       "    <tr>\n",
       "      <th>name</th>\n",
       "      <td>GOLD PORTAGE OUTLET FROM KABETOGAMA LK NR RAY,MN</td>\n",
       "      <td>RAINY R AT BOAT LANDING BLW INTERNATIONAL FALL...</td>\n",
       "      <td>WARD C AT HWY 89 NR TAHOE PINES CA</td>\n",
       "    </tr>\n",
       "    <tr>\n",
       "      <th>geometry</th>\n",
       "      <td>POINT (-93.0748688 48.5243635)</td>\n",
       "      <td>POINT (-93.4466667 48.5922222)</td>\n",
       "      <td>POINT (-120.1576913 39.1321292)</td>\n",
       "    </tr>\n",
       "    <tr>\n",
       "      <th>primary_location_id</th>\n",
       "      <td>usgs-05129290</td>\n",
       "      <td>usgs-05129515</td>\n",
       "      <td>usgs-10336676</td>\n",
       "    </tr>\n",
       "    <tr>\n",
       "      <th>reference_time</th>\n",
       "      <td>2023-01-02 16:00:00</td>\n",
       "      <td>2023-01-02 16:00:00</td>\n",
       "      <td>2023-01-02 16:00:00</td>\n",
       "    </tr>\n",
       "    <tr>\n",
       "      <th>bias</th>\n",
       "      <td>1.030491</td>\n",
       "      <td>50.142329</td>\n",
       "      <td>0.792218</td>\n",
       "    </tr>\n",
       "  </tbody>\n",
       "</table>\n",
       "</div>"
      ],
      "text/plain": [
       "                                                                    0  \\\n",
       "id                                                      usgs-05129290   \n",
       "name                 GOLD PORTAGE OUTLET FROM KABETOGAMA LK NR RAY,MN   \n",
       "geometry                               POINT (-93.0748688 48.5243635)   \n",
       "primary_location_id                                     usgs-05129290   \n",
       "reference_time                                    2023-01-02 16:00:00   \n",
       "bias                                                         1.030491   \n",
       "\n",
       "                                                                     1  \\\n",
       "id                                                       usgs-05129515   \n",
       "name                 RAINY R AT BOAT LANDING BLW INTERNATIONAL FALL...   \n",
       "geometry                                POINT (-93.4466667 48.5922222)   \n",
       "primary_location_id                                      usgs-05129515   \n",
       "reference_time                                     2023-01-02 16:00:00   \n",
       "bias                                                         50.142329   \n",
       "\n",
       "                                                      2  \n",
       "id                                        usgs-10336676  \n",
       "name                 WARD C AT HWY 89 NR TAHOE PINES CA  \n",
       "geometry                POINT (-120.1576913 39.1321292)  \n",
       "primary_location_id                       usgs-10336676  \n",
       "reference_time                      2023-01-02 16:00:00  \n",
       "bias                                           0.792218  "
      ]
     },
     "execution_count": 10,
     "metadata": {},
     "output_type": "execute_result"
    }
   ],
   "source": [
    "%%time\n",
    "metrics_df = tqp.get_metrics(\n",
    "    primary_filepath=USGS,\n",
    "    secondary_filepath=SHORT_RANGE,\n",
    "    crosswalk_filepath=CROSSWALK,\n",
    "    group_by=[\"primary_location_id\", \"reference_time\"],\n",
    "    order_by=[\"primary_location_id\"],\n",
    "    include_metrics=[\"bias\"],\n",
    "    filters=[\n",
    "        {\n",
    "            \"column\":  \"primary_location_id\",\n",
    "            \"operator\": \"in\",\n",
    "            \"value\": [\"usgs-10336676\",\"usgs-05129290\", \"usgs-05129515\"]\n",
    "        },\n",
    "        {\n",
    "            \"column\":  \"reference_time\",\n",
    "            \"operator\": \"=\",\n",
    "            \"value\": \"2023-01-02 16:00:00\"\n",
    "        },\n",
    "    ],\n",
    "    geometry_filepath=GEOMETRY,\n",
    "    include_geometry=True\n",
    ")\n",
    "metrics_df.transpose()"
   ]
  },
  {
   "cell_type": "code",
   "execution_count": null,
   "id": "27bacaa5-9452-4abc-b6f3-6d46efb794c9",
   "metadata": {},
   "outputs": [],
   "source": []
  }
 ],
 "metadata": {
  "kernelspec": {
   "display_name": "Python 3 (ipykernel)",
   "language": "python",
   "name": "python3"
  },
  "language_info": {
   "codemirror_mode": {
    "name": "ipython",
    "version": 3
   },
   "file_extension": ".py",
   "mimetype": "text/x-python",
   "name": "python",
   "nbconvert_exporter": "python",
   "pygments_lexer": "ipython3",
   "version": "3.10.8"
  }
 },
 "nbformat": 4,
 "nbformat_minor": 5
}
