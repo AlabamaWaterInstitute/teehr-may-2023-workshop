version https://git-lfs.github.com/spec/v1
oid sha256:4c3ecf8ce87715d2c57d211306aac267417166a0e98ed1a28fffd39f46ceae6f
size 7784
