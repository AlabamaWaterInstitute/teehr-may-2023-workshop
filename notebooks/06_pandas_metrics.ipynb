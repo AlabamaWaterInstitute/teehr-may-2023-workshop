version https://git-lfs.github.com/spec/v1
oid sha256:056003621756155b047b73f202a9bf4d17e5ec68bbd959997c449563cb59ea1d
size 7777
