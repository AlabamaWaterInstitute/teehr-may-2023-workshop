{
 "cells": [
  {
   "cell_type": "markdown",
   "id": "53f28e53-63b8-48e1-8017-0c4c85997cae",
   "metadata": {},
   "source": [
    "## Widgets to facilitate evaluation queries\n",
    "\n",
    ".... brief explanation,   \n",
    "concise/rapid approach to subset the timeseries you want to evaluate and get either the raw data or summary/comparison metrics  \n",
    "efficient, enables querying the data 'on the fly' within interactive visualizations\n",
    "\n"
   ]
  },
  {
   "cell_type": "markdown",
   "id": "2777e449-4585-453a-be09-84e2a98645ae",
   "metadata": {},
   "source": [
    "### Install and Import packages"
   ]
  },
  {
   "cell_type": "code",
   "execution_count": null,
   "id": "90a992e6-c34d-42bf-a1a6-acb6d680b36a",
   "metadata": {},
   "outputs": [],
   "source": [
    "%%capture\n",
    "#!pip install 'teehr @ git+https://[]@github.com/RTIInternational/teehr@main'"
   ]
  },
  {
   "cell_type": "code",
   "execution_count": null,
   "id": "e2efca43-3791-4e08-a82e-73e0b571ec8c",
   "metadata": {},
   "outputs": [],
   "source": [
    "import teehr.queries.duckdb as tqd\n",
    "\n",
    "# dashboard functions\n",
    "import postevent_dashboard_utils as du\n",
    "from pathlib import Path\n",
    "import importlib\n",
    "import pandas as pd\n",
    "import numpy as np\n",
    "import geopandas as gpd\n",
    "import panel as pn\n",
    "import colorcet as cc\n",
    "import hvplot\n",
    "import hvplot.pandas\n",
    "#hv.extension('bokeh', logo=False)\n",
    "pn.extension()"
   ]
  },
  {
   "cell_type": "markdown",
   "id": "d92a32d2-6427-4a14-8b73-5384d814dbf1",
   "metadata": {
    "tags": []
   },
   "source": [
    "## Point to the data that will be used for the evaluation\n",
    "\n",
    "\n",
    "These are the evaluation scenario definitions - specific variables and configurations to be compared within the overall study.\n",
    "We need to specify all the parquet files containing the data we want to evaluate, as well as some necessary associated data (geometry, crosswalks, and attributes).\n",
    "These files dictate the specific study (directory name), forecast configuration, and source of verifying data used in this evaluation.\n",
    "\n"
   ]
  },
  {
   "cell_type": "code",
   "execution_count": null,
   "id": "435147c1-0704-497d-aa10-d4a37432dbb7",
   "metadata": {},
   "outputs": [],
   "source": [
    "# overall study directory\n",
    "STUDY_DIR = Path(\"/home\", \"jovyan\", \"shared\", \"rti-eval\", \"post-event-example\")\n",
    "\n",
    "## general units ('english' or 'metric') to show in visualization\n",
    "viz_units = \"metric\"\n",
    "\n",
    "# medium range streamflow forecast evaluation files \n",
    "MRF_streamflow = dict(\n",
    "    scenario_name=\"medium_range\",\n",
    "    variable=\"streamflow\",\n",
    "    primary_filepath=Path(STUDY_DIR, \"timeseries\", \"usgs\", \"*.parquet\"),\n",
    "    secondary_filepath=Path(STUDY_DIR, \"timeseries\", \"medium_range_mem1\", \"*.parquet\"),\n",
    "    crosswalk_filepath=Path(STUDY_DIR, \"geo\", \"usgs_nwm22_crosswalk.parquet\"),\n",
    "    geometry_filepath=Path(STUDY_DIR, \"geo\", \"usgs_geometry.parquet\")\n",
    ")\n",
    "# medium range precip forecast evaluation files\n",
    "MRF_forcing = dict(\n",
    "    scenario_name=\"medium_range\",\n",
    "    variable=\"precipitation\",    \n",
    "    primary_filepath=Path(STUDY_DIR, \"timeseries\", \"forcing_analysis_assim\", \"*.parquet\"),\n",
    "    secondary_filepath=Path(STUDY_DIR, \"timeseries\", \"forcing_medium_range\", \"*.parquet\"),\n",
    "    crosswalk_filepath=Path(STUDY_DIR, \"geo\", \"huc10_huc10_crosswalk.parquet\"),                    # the primary and secondary are both HUC10\n",
    "    geometry_filepath=Path(STUDY_DIR, \"geo\", \"huc10_geometry.parquet\"),\n",
    ")\n",
    "\n",
    "# short range streamflow forecast evaluation files \n",
    "SRF_streamflow = dict(\n",
    "    scenario_name=\"short_range\",\n",
    "    variable=\"streamflow\",\n",
    "    primary_filepath=MRF_streamflow[\"primary_filepath\"],\n",
    "    secondary_filepath=Path(STUDY_DIR, \"timeseries\", \"short_range\", \"*.parquet\"),\n",
    "    crosswalk_filepath=MRF_streamflow[\"crosswalk_filepath\"],\n",
    "    geometry_filepath=MRF_streamflow[\"geometry_filepath\"],\n",
    ")\n",
    "\n",
    "# medium range precip forecast evaluation files\n",
    "SRF_forcing = dict(\n",
    "    scenario_name=\"short_range\",\n",
    "    variable=\"precipitation\",    \n",
    "    primary_filepath=MRF_forcing[\"primary_filepath\"],\n",
    "    secondary_filepath=Path(STUDY_DIR, \"timeseries\", \"forcing_short_range\", \"*.parquet\"),\n",
    "    crosswalk_filepath=MRF_forcing[\"crosswalk_filepath\"],\n",
    "    geometry_filepath=MRF_forcing[\"geometry_filepath\"],\n",
    ")\n",
    "\n",
    "scenario_definitions = [MRF_streamflow, MRF_forcing, SRF_streamflow, SRF_forcing]\n",
    "\n",
    "attribute_paths = dict(\n",
    "    usgs_upstream_area=Path(STUDY_DIR, \"geo\", \"usgs_attr_upstream_area.parquet\"),\n",
    "    usgs_ecoregions=Path(STUDY_DIR, \"geo\", \"usgs_attr_ecoregions.parquet\"),\n",
    "    usgs_stream_order=Path(STUDY_DIR, \"geo\", \"usgs_attr_stream_order.parquet\"),\n",
    "    usgs_huc_crosswalk=Path(STUDY_DIR, \"geo\", \"usgs_huc12_crosswalk.parquet\"),\n",
    ")"
   ]
  },
  {
   "cell_type": "markdown",
   "id": "88bbf293-7bd5-416f-abde-ed4633353340",
   "metadata": {},
   "source": [
    "## Select the scenario and variable for evaluation:\n",
    "We will use some panel widgets to make this easier:"
   ]
  },
  {
   "cell_type": "code",
   "execution_count": null,
   "id": "5ba1acd6-2abb-4a90-b22c-af9e0084eb20",
   "metadata": {},
   "outputs": [],
   "source": [
    "importlib.reload(du)\n",
    "scenario_selector = du.get_scenario_selector(scenario_name_list=sorted(du.get_scenario_names(scenario_definitions)))  \n",
    "variable_selector = du.get_variable_selector(variable_list=du.get_scenario_variables(scenario_definitions))   \n",
    "pn.Row(scenario_selector, variable_selector)"
   ]
  },
  {
   "cell_type": "markdown",
   "id": "156accfc-8448-4a90-8b5a-b22a68864dcf",
   "metadata": {},
   "source": [
    "## Filter the data to the region, time period, stream size, threshold (etc.) of interest:"
   ]
  },
  {
   "cell_type": "code",
   "execution_count": null,
   "id": "42747978-5ce3-4bc1-86c6-229a3e11e900",
   "metadata": {},
   "outputs": [],
   "source": [
    "importlib.reload(du)\n",
    "scenario = du.get_scenario(scenario_definitions, scenario_selector.value, variable_selector.value)\n",
    "[value_time_slider, reference_time_slider, lead_time_selector, huc2_selector, \n",
    " threshold_selector, order_limit_selector, metric_selector] = du.get_filter_widgets(scenario)\n",
    "\n",
    "pn.Row(\n",
    "    pn.Column(huc2_selector, order_limit_selector, threshold_selector, metric_selector),\n",
    "    pn.Spacer(width=50),    \n",
    "    pn.Column(     \n",
    "        pn.Spacer(height=10), value_time_slider,\n",
    "        pn.Spacer(height=10), reference_time_slider,\n",
    "        pn.Spacer(height=5), lead_time_selector,\n",
    "    )\n",
    ")"
   ]
  },
  {
   "cell_type": "markdown",
   "id": "a1fe8b45-a1f9-4aeb-b9ac-1152ea30ec45",
   "metadata": {},
   "source": [
    "## Make selections above and run the query in the cell below\n",
    "### Experiment with the filter selections..."
   ]
  },
  {
   "cell_type": "code",
   "execution_count": null,
   "id": "086e62de-e11c-4fc1-9965-79bb3f151faf",
   "metadata": {},
   "outputs": [],
   "source": [
    "%%time\n",
    "importlib.reload(du)\n",
    "gdf = du.run_teehr_query(\n",
    "    query_type=\"metrics\",\n",
    "    scenario=scenario,\n",
    "    huc_id=huc2_selector.value,\n",
    "    order_limit=order_limit_selector.value,\n",
    "    value_time_start=value_time_slider[1].value_start,    \n",
    "    value_time_end=value_time_slider[1].value_end,    \n",
    "    reference_time_start=reference_time_slider[1].value_start,    \n",
    "    reference_time_end=reference_time_slider[1].value_end,\n",
    "    group_by=['primary_location_id'],\n",
    "    order_by=['primary_location_id'],\n",
    "    value_min=threshold_selector.value,    \n",
    "    include_metrics=metric_selector.value,\n",
    "    attribute_paths=attribute_paths,\n",
    "    return_query=False,\n",
    ")\n",
    "display(gdf.head())"
   ]
  },
  {
   "cell_type": "code",
   "execution_count": null,
   "id": "68a5d905-36b8-4ddd-9ecf-bed1d72c2349",
   "metadata": {},
   "outputs": [],
   "source": [
    "gdf = gdf.to_crs(\"EPSG:3857\")\n",
    "gdf['relative_peak_error'] = gdf['max_value_delta']/gdf['primary_maximum']\n",
    "gdf.hvplot.points(c='relative_peak_error', cmap=cc.CET_D1A[::-1], clim=(-1,1), width=500, height=400,\n",
    "                             title=\"Relative Peak Error\", size=10, xaxis = None, yaxis = None, tiles='CartoLight', \n",
    "                             hover_cols=['primary_location_id', 'primary_maximum'], cnorm='linear')"
   ]
  },
  {
   "cell_type": "markdown",
   "id": "61ec1285-bf27-42e7-ba09-11867a40ff9c",
   "metadata": {},
   "source": [
    "### Choose a gage to to explore more closely"
   ]
  },
  {
   "cell_type": "code",
   "execution_count": null,
   "id": "76830e27-e235-4938-b2c5-d66f882e4360",
   "metadata": {},
   "outputs": [],
   "source": [
    "usgs_id = 'usgs-11451715'"
   ]
  },
  {
   "cell_type": "markdown",
   "id": "2b11f09e-e6ce-4608-8ab8-eed868398d93",
   "metadata": {},
   "source": [
    "### Get the observed and forecast streamflow time series"
   ]
  },
  {
   "cell_type": "code",
   "execution_count": null,
   "id": "170f367d-4a0d-4c61-8480-03fb433ea594",
   "metadata": {},
   "outputs": [],
   "source": [
    "importlib.reload(du)\n",
    "flow_df = du.run_teehr_query(\n",
    "    query_type=\"timeseries\",\n",
    "    scenario=scenario,\n",
    "    location_id=usgs_id,\n",
    "    order_limit=order_limit_selector.value,\n",
    "    value_time_start=value_time_slider[1].value_start,    \n",
    "    value_time_end=value_time_slider[1].value_end,    \n",
    "    reference_time_start=reference_time_slider[1].value_start,    \n",
    "    reference_time_end=reference_time_slider[1].value_end,\n",
    "    value_min=threshold_selector.value,    \n",
    "    attribute_paths=attribute_paths,\n",
    "    return_query=False,\n",
    "    include_geometry=False,\n",
    ")\n",
    "display(flow_df.head())"
   ]
  },
  {
   "cell_type": "markdown",
   "id": "2b7bc9cd-7335-4b64-89d6-ddaa60b7b6a8",
   "metadata": {},
   "source": [
    "### Plot all the timeseries"
   ]
  },
  {
   "cell_type": "code",
   "execution_count": null,
   "id": "0bcfabfe-dde2-4826-9cb4-09910efacd2e",
   "metadata": {},
   "outputs": [],
   "source": [
    "flow_df = flow_df.rename(columns={'primary_value':'obs_flow','secondary_value':'fcst_flow'})\n",
    "ref_times = sorted(flow_df['reference_time'].unique())\n",
    "cmap = cc.rainbow[::-1]\n",
    "cstep = int(np.floor(len(cmap) / len(ref_times)))\n",
    "\n",
    "flow_obs = flow_df.hvplot(x='value_time', y='obs_flow', label = 'observed', ylabel='Flow (cms)', color = 'black', line_width=4)   \n",
    "hydrographs = flow_obs\n",
    "for t, time in enumerate(ref_times):\n",
    "    df_t = flow_df[flow_df['reference_time'] == time]\n",
    "    ci = cmap[cstep * t]\n",
    "    fcst = df_t.hvplot(x='value_time', y='fcst_flow', color = [ci])\n",
    "    hydrographs = hydrographs * fcst\n",
    "\n",
    "hydrographs * flow_obs"
   ]
  },
  {
   "cell_type": "markdown",
   "id": "6df8a732-3b54-4a4a-b023-6350b8c589d2",
   "metadata": {},
   "source": [
    "### Get observed and forecast precipitation time series in the area"
   ]
  },
  {
   "cell_type": "code",
   "execution_count": null,
   "id": "fcdbf607-9ca2-4a53-b7a8-99fe922d549b",
   "metadata": {},
   "outputs": [],
   "source": [
    "# read the usgs-huc crosswalk, get the HUC10 containing the above gage\n",
    "cross = pd.read_parquet(attribute_paths['usgs_huc_crosswalk'])\n",
    "huc12_id = cross.loc[cross['primary_location_id']==usgs_id, 'secondary_location_id'].iloc[0]\n",
    "huc10_id = \"-\".join(['huc10', huc12_id.split(\"-\")[1][:10]])\n",
    "\n",
    "pcp_df = du.run_teehr_query(\n",
    "    query_type=\"timeseries\",\n",
    "    scenario=MRF_forcing,\n",
    "    location_id=huc10_id,\n",
    "    order_limit=order_limit_selector.value,\n",
    "    value_time_start=value_time_slider[1].value_start,    \n",
    "    value_time_end=value_time_slider[1].value_end,    \n",
    "    reference_time_start=reference_time_slider[1].value_start,    \n",
    "    reference_time_end=reference_time_slider[1].value_end,\n",
    "    value_min=threshold_selector.value,    \n",
    "    attribute_paths=attribute_paths,\n",
    "    return_query=False,\n",
    "    include_geometry=False,\n",
    ")\n",
    "display(pcp_df.head())"
   ]
  },
  {
   "cell_type": "markdown",
   "id": "c67479f8-0c98-420b-9f83-8f2559c00be3",
   "metadata": {},
   "source": [
    "### Link precipitation to the streamflow plots"
   ]
  },
  {
   "cell_type": "code",
   "execution_count": null,
   "id": "12459b46-22d3-4852-bc30-781009b88884",
   "metadata": {},
   "outputs": [],
   "source": [
    "pcp_df = pcp_df.rename(columns={'primary_value':'obs_pcp','secondary_value':'fcst_pcp'})\n",
    "pcp_obs = pcp_df.hvplot(x='value_time', y='obs_pcp', label='observed', ylabel='Precip (mm)', color = 'black', line_width=3)   \n",
    "hyetograph = pcp_obs\n",
    "for t, time in enumerate(ref_times):\n",
    "    df_t = pcp_df[pcp_df['reference_time'] == time]\n",
    "    ci = cmap[cstep * t]\n",
    "    fcst = df_t.hvplot(x='value_time', y='fcst_pcp', color = [ci])\n",
    "    hyetograph = hyetograph * fcst\n",
    "\n",
    "((hyetograph * pcp_obs) + (hydrographs * flow_obs)).cols(1)"
   ]
  },
  {
   "cell_type": "code",
   "execution_count": null,
   "id": "97f34080-921a-4300-a0fe-a1450c5fa81f",
   "metadata": {},
   "outputs": [],
   "source": []
  }
 ],
 "metadata": {
  "kernelspec": {
   "display_name": "Python 3 (ipykernel)",
   "language": "python",
   "name": "python3"
  },
  "language_info": {
   "codemirror_mode": {
    "name": "ipython",
    "version": 3
   },
   "file_extension": ".py",
   "mimetype": "text/x-python",
   "name": "python",
   "nbconvert_exporter": "python",
   "pygments_lexer": "ipython3",
   "version": "3.10.8"
  }
 },
 "nbformat": 4,
 "nbformat_minor": 5
}
