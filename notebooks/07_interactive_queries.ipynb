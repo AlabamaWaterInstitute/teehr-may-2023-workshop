{
 "cells": [
  {
   "cell_type": "markdown",
   "id": "53f28e53-63b8-48e1-8017-0c4c85997cae",
   "metadata": {},
   "source": [
    "## Widgets to facilitate evaluation queries\n",
    "\n",
    ".... brief explanation,   \n",
    "concise/rapid approach to subset the timeseries you want to evaluate and get either the raw data or summary/comparison metrics  \n",
    "efficient, enables querying the data 'on the fly' within interactive visualizations\n",
    "\n"
   ]
  },
  {
   "cell_type": "markdown",
   "id": "2777e449-4585-453a-be09-84e2a98645ae",
   "metadata": {},
   "source": [
    "### Install and Import packages"
   ]
  },
  {
   "cell_type": "code",
   "execution_count": null,
   "id": "90a992e6-c34d-42bf-a1a6-acb6d680b36a",
   "metadata": {},
   "outputs": [],
   "source": [
    "%%capture\n",
    "#!pip install 'teehr @ git+https://[]@github.com/RTIInternational/teehr@main'"
   ]
  },
  {
   "cell_type": "code",
   "execution_count": null,
   "id": "e2efca43-3791-4e08-a82e-73e0b571ec8c",
   "metadata": {},
   "outputs": [],
   "source": [
    "import teehr.queries.duckdb as tqd\n",
    "\n",
    "# dashboard functions\n",
    "import postevent_dashboard_utils as du\n",
    "from pathlib import Path\n",
    "import importlib\n",
    "import panel as pn\n",
    "import geopandas as gpd\n",
    "import colorcet as cc\n",
    "#hv.extension('bokeh', logo=False)\n",
    "pn.extension()"
   ]
  },
  {
   "cell_type": "markdown",
   "id": "d92a32d2-6427-4a14-8b73-5384d814dbf1",
   "metadata": {
    "tags": []
   },
   "source": [
    "## Point to the data that will be used for the evaluation\n",
    "\n",
    "\n",
    "These are the evaluation scenario definitions - specific variables and configurations to be compared within the overall study.\n",
    "We need to specify all the parquet files containing the data we want to evaluate, as well as some necessary associated data (geometry, crosswalks, and attributes).\n",
    "These files dictate the specific study (directory name), forecast configuration, and source of verifying data used in this evaluation.\n",
    "\n"
   ]
  },
  {
   "cell_type": "code",
   "execution_count": null,
   "id": "435147c1-0704-497d-aa10-d4a37432dbb7",
   "metadata": {},
   "outputs": [],
   "source": [
    "# overall study directory\n",
    "STUDY_DIR = Path(\"/home\", \"jovyan\", \"shared\", \"rti-eval\", \"post-event-example\")\n",
    "\n",
    "## general units ('english' or 'metric') to show in visualization\n",
    "viz_units = \"metric\"\n",
    "\n",
    "# medium range streamflow forecast evaluation files \n",
    "MRF_streamflow = dict(\n",
    "    scenario_name=\"medium_range\",\n",
    "    variable=\"streamflow\",\n",
    "    primary_filepath=Path(STUDY_DIR, \"timeseries\", \"usgs\", \"*.parquet\"),\n",
    "    secondary_filepath=Path(STUDY_DIR, \"timeseries\", \"medium_range_mem1\", \"*.parquet\"),\n",
    "    crosswalk_filepath=Path(STUDY_DIR, \"geo\", \"usgs_nwm22_crosswalk.parquet\"),\n",
    "    geometry_filepath=Path(STUDY_DIR, \"geo\", \"usgs_geometry.parquet\")\n",
    ")\n",
    "# medium range precip forecast evaluation files\n",
    "MRF_forcing = dict(\n",
    "    scenario_name=\"medium_range\",\n",
    "    variable=\"precipitation\",    \n",
    "    primary_filepath=Path(STUDY_DIR, \"timeseries\", \"forcing_analysis_assim\", \"*.parquet\"),\n",
    "    secondary_filepath=Path(STUDY_DIR, \"timeseries\", \"forcing_medium_range\", \"*.parquet\"),\n",
    "    crosswalk_filepath=Path(STUDY_DIR, \"geo\", \"huc10_huc10_crosswalk.parquet\"),                    # the primary and secondary are both HUC10\n",
    "    geometry_filepath=Path(STUDY_DIR, \"geo\", \"huc10_geometry.parquet\"),\n",
    ")\n",
    "\n",
    "# short range streamflow forecast evaluation files \n",
    "SRF_streamflow = dict(\n",
    "    scenario_name=\"short_range\",\n",
    "    variable=\"streamflow\",\n",
    "    primary_filepath=MRF_streamflow[\"primary_filepath\"],\n",
    "    secondary_filepath=Path(STUDY_DIR, \"timeseries\", \"short_range\", \"*.parquet\"),\n",
    "    crosswalk_filepath=MRF_streamflow[\"crosswalk_filepath\"],\n",
    "    geometry_filepath=MRF_streamflow[\"geometry_filepath\"],\n",
    ")\n",
    "\n",
    "# medium range precip forecast evaluation files\n",
    "SRF_forcing = dict(\n",
    "    scenario_name=\"short_range\",\n",
    "    variable=\"precipitation\",    \n",
    "    primary_filepath=MRF_forcing[\"primary_filepath\"],\n",
    "    secondary_filepath=Path(STUDY_DIR, \"timeseries\", \"forcing_short_range\", \"*.parquet\"),\n",
    "    crosswalk_filepath=MRF_forcing[\"crosswalk_filepath\"],\n",
    "    geometry_filepath=MRF_forcing[\"geometry_filepath\"],\n",
    ")\n",
    "\n",
    "scenario_definitions = [MRF_streamflow, MRF_forcing, SRF_streamflow, SRF_forcing]\n",
    "\n",
    "attribute_paths = dict(\n",
    "    usgs_upstream_area=Path(STUDY_DIR, \"geo\", \"usgs_attr_upstream_area.parquet\"),\n",
    "    usgs_ecoregions=Path(STUDY_DIR, \"geo\", \"usgs_attr_ecoregions.parquet\"),\n",
    "    usgs_stream_order=Path(STUDY_DIR, \"geo\", \"usgs_attr_stream_order.parquet\"),\n",
    "    usgs_huc_crosswalk=Path(STUDY_DIR, \"geo\", \"usgs_huc12_crosswalk.parquet\"),\n",
    ")"
   ]
  },
  {
   "cell_type": "markdown",
   "id": "88bbf293-7bd5-416f-abde-ed4633353340",
   "metadata": {},
   "source": [
    "## Select the scenario and variable for evaluation:\n",
    "We will use some panel widgets to make this easier:"
   ]
  },
  {
   "cell_type": "code",
   "execution_count": null,
   "id": "5ba1acd6-2abb-4a90-b22c-af9e0084eb20",
   "metadata": {},
   "outputs": [],
   "source": [
    "importlib.reload(du)\n",
    "scenario_selector = du.get_scenario_selector(scenario_name_list=sorted(du.get_scenario_names(scenario_definitions)))  \n",
    "variable_selector = du.get_variable_selector(variable_list=du.get_scenario_variables(scenario_definitions))   \n",
    "pn.Row(scenario_selector, variable_selector)"
   ]
  },
  {
   "cell_type": "markdown",
   "id": "156accfc-8448-4a90-8b5a-b22a68864dcf",
   "metadata": {},
   "source": [
    "## Filter the data to the region, time period, stream size, threshold (etc.) of interest:"
   ]
  },
  {
   "cell_type": "code",
   "execution_count": null,
   "id": "42747978-5ce3-4bc1-86c6-229a3e11e900",
   "metadata": {},
   "outputs": [],
   "source": [
    "importlib.reload(du)\n",
    "scenario = du.get_scenario(eval_scenarios, scenario_selector.value, variable_selector.value)\n",
    "[value_time_slider, reference_time_slider, lead_time_selector, huc2_selector, \n",
    " threshold_selector, order_limit_selector, metric_selector] = du.get_filter_widgets(scenario)\n",
    "\n",
    "pn.Row(\n",
    "    pn.Column(huc2_selector, order_limit_selector, threshold_selector, metric_selector),\n",
    "    pn.Spacer(width=50),    \n",
    "    pn.Column(     \n",
    "        pn.Spacer(height=10), value_time_slider,\n",
    "        pn.Spacer(height=10), reference_time_slider,\n",
    "        pn.Spacer(height=5), lead_time_selector,\n",
    "    )\n",
    ")"
   ]
  },
  {
   "cell_type": "markdown",
   "id": "a1fe8b45-a1f9-4aeb-b9ac-1152ea30ec45",
   "metadata": {},
   "source": [
    "## Make selections above and run the query in the cell below\n",
    "### Experiment with the filter selections..."
   ]
  },
  {
   "cell_type": "code",
   "execution_count": null,
   "id": "086e62de-e11c-4fc1-9965-79bb3f151faf",
   "metadata": {},
   "outputs": [],
   "source": [
    "%%time\n",
    "importlib.reload(du)\n",
    "metrics_gdf = du.run_teehr_query(\n",
    "    query_type=\"metrics\",\n",
    "    scenario=scenario,\n",
    "    huc_id=huc2_selector.value,\n",
    "    order_limit=order_limit_selector.value,\n",
    "    value_time_start=value_time_slider[1].value_start,    \n",
    "    value_time_end=value_time_slider[1].value_end,    \n",
    "    reference_time_start=reference_time_slider[1].value_start,    \n",
    "    reference_time_end=reference_time_slider[1].value_end,\n",
    "    group_by=['primary_location_id','reference_time'],\n",
    "    order_by=['primary_location_id','reference_time'],\n",
    "    value_min=threshold_selector.value,    \n",
    "    include_metrics=metric_selector.value,\n",
    "    attribute_paths=attribute_paths,\n",
    "    return_query=False,\n",
    ")\n",
    "display(metrics_gdf.head())"
   ]
  },
  {
   "cell_type": "code",
   "execution_count": null,
   "id": "170f367d-4a0d-4c61-8480-03fb433ea594",
   "metadata": {},
   "outputs": [],
   "source": [
    "importlib.reload(du)\n",
    "ts_df = du.run_teehr_query(\n",
    "    query_type=\"timeseries\",\n",
    "    scenario=scenario,\n",
    "    huc_id=huc2_selector.value,\n",
    "    order_limit=order_limit_selector.value,\n",
    "    value_time_start=value_time_slider[1].value_start,    \n",
    "    value_time_end=value_time_slider[1].value_end,    \n",
    "    reference_time_start=reference_time_slider[1].value_start,    \n",
    "    reference_time_end=reference_time_slider[1].value_end,\n",
    "    value_min=threshold_selector.value,    \n",
    "    attribute_paths=attribute_paths,\n",
    "    return_query=False,\n",
    ")\n",
    "display(ts_df.head())"
   ]
  },
  {
   "cell_type": "code",
   "execution_count": null,
   "id": "c6faa8b1-9768-484c-a71e-1fdfc363fa56",
   "metadata": {},
   "outputs": [],
   "source": [
    "import hvplot\n",
    "import hvplot.pandas\n",
    "import holoviews as hv\n",
    "from holoviews.element import tiles"
   ]
  },
  {
   "cell_type": "code",
   "execution_count": null,
   "id": "b6bab8ec-f7c0-4c78-bdd3-cdc27f5d6eb4",
   "metadata": {},
   "outputs": [],
   "source": [
    "units = viz_units\n",
    "gdf = du.convert_query_to_viz_units(metrics_gdf, units, scenario['variable'])\n",
    "attribute_df = du.combine_attributes(attribute_paths,units)\n",
    "gdf = du.merge_attr_to_gdf(gdf, attribute_df)\n",
    "gdf['max_perc_diff'] = gdf['max_value_delta']/gdf['primary_maximum']*100"
   ]
  },
  {
   "cell_type": "code",
   "execution_count": null,
   "id": "f0ff7923-30a4-4349-a498-36d722bcde95",
   "metadata": {},
   "outputs": [],
   "source": [
    "df = gdf[['primary_location_id','reference_time','primary_maximum','secondary_maximum','max_perc_diff','upstream_area_value','ecoregion_L2_value','stream_order_value']].copy()\n",
    "df['easting'] = gdf.to_crs(\"EPSG:3857\").geometry.x\n",
    "df['northing'] = gdf.to_crs(\"EPSG:3857\").geometry.y\n",
    "#df = df.loc[(df['primary_maximum']<5000) & (df['primary_maximum']<5000) & \\\n",
    "#            (df['secondary_maximum']>0) & (df['primary_maximum']>0)]"
   ]
  },
  {
   "cell_type": "code",
   "execution_count": null,
   "id": "6d3060a6-a732-416c-af6b-9418c7dc5f37",
   "metadata": {},
   "outputs": [],
   "source": [
    "df"
   ]
  },
  {
   "cell_type": "code",
   "execution_count": null,
   "id": "cec98c46-b26f-41e1-b2d1-efd784e0e0a2",
   "metadata": {},
   "outputs": [],
   "source": [
    "measure='max_perc_diff'\n",
    "width = 700\n",
    "basemap = tiles.OSM().redim(x='easting', y='northing') #gv.tile_sources.CartoLight\n",
    "points_hv = hv.Points(df, kdims=['easting','northing'], vdims=[measure, 'secondary_maximum', 'primary_maximum','upstream_area_value','ecoregion_L2_value','stream_order_value'])\n",
    "points_hv.opts(width=width, height=400, color=hv.dim(measure), clim=(-100,100),\n",
    "    cmap=cc.CET_D1A[::-1], size = 5, xaxis=None, yaxis=None, colorbar=True)\n",
    "\n",
    "diff_hist = df.hvplot.hist(y=measure, width=width, bins=100, bin_range=(-100, 1000), height=200, xlabel='% Difference Peak Flow')\n",
    "#diff_scat = df.hvplot.scatter(x='secondary_average', y='primary_average', vdims=[measure,'easting','northing'], alpha=0.2, width=400, height=400, xlabel='Forecast Peak', ylabel='Observed Peak')\n",
    "diff_scat = hv.Scatter(df, kdims=['secondary_maximum'], vdims=['primary_maximum','easting','northing',measure])\n",
    "diff_scat.opts(alpha=0.2, width=400, height=400, xlabel='Forecast Peak', ylabel='Observed Peak')\n",
    "ls = hv.link_selections.instance()\n",
    "ls((basemap*points_hv + diff_scat + diff_hist)).cols(2)"
   ]
  },
  {
   "cell_type": "code",
   "execution_count": null,
   "id": "06c3392f-f6a3-4854-ad60-a7f1d2a1f7f8",
   "metadata": {},
   "outputs": [],
   "source": []
  }
 ],
 "metadata": {
  "kernelspec": {
   "display_name": "Python 3 (ipykernel)",
   "language": "python",
   "name": "python3"
  },
  "language_info": {
   "codemirror_mode": {
    "name": "ipython",
    "version": 3
   },
   "file_extension": ".py",
   "mimetype": "text/x-python",
   "name": "python",
   "nbconvert_exporter": "python",
   "pygments_lexer": "ipython3",
   "version": "3.10.8"
  }
 },
 "nbformat": 4,
 "nbformat_minor": 5
}
