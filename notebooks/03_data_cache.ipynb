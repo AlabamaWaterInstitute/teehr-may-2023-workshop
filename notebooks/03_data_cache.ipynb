{
 "cells": [
  {
   "cell_type": "markdown",
   "id": "c5f2d507-6800-4f41-8cf5-6dc0e14757da",
   "metadata": {},
   "source": [
    "# 02 - The Data Cache\n",
    "In this module we will explore the cached data structure using DuckDB.  The timeseries, geospatial data, crosswalk data and attribute data was fetched from different sources, formatted to the TEEHER data model and cached for exploration and evaluation."
   ]
  },
  {
   "cell_type": "code",
   "execution_count": null,
   "id": "f70fbb5a-3dd9-49c5-b8c0-8daa5eb6ffec",
   "metadata": {},
   "outputs": [],
   "source": [
    "import duckdb\n",
    "from pathlib import Path"
   ]
  },
  {
   "cell_type": "markdown",
   "id": "0f8d8152-0b55-47cf-a42f-48cb52747a66",
   "metadata": {},
   "source": [
    "## Example study directory structure\n",
    "```text\n",
    ".\n",
    "├── geo\n",
    "│   ├── huc10_geometry.parquet\n",
    "│   ├── huc10_huc10_crosswalk.parquet\n",
    "│   ├── usgs_attr_ecoregions.parquet\n",
    "│   ├── usgs_attr_retro_100yr_flow.parquet\n",
    "│   ├── usgs_attr_retro_10yr_flow.parquet\n",
    "│   ├── usgs_attr_retro_2yr_flow.parquet\n",
    "│   ├── usgs_attr_stream_order.parquet\n",
    "│   ├── usgs_attr_upstream_area.parquet\n",
    "│   ├── usgs_geometry.parquet\n",
    "│   ├── usgs_huc12_crosswalk.parquet\n",
    "│   └── usgs_nwm22_crosswalk.parquet\n",
    "├── study_definition.json\n",
    "└── timeseries\n",
    "    ├── analysis_assim\n",
    "    │   ├── 20221217T21Z.parquet\n",
    "    │   ├── ...\n",
    "    │   └── 20230118T20Z.parquet\n",
    "    ├── forcing_analysis_assim\n",
    "    │   ├── 20221218.parquet\n",
    "    │   ├── ...\n",
    "    │   └── 20230126.parquet\n",
    "    ├── forcing_medium_range\n",
    "    │   ├── 20221218T00Z.parquet\n",
    "    │   ├── ...\n",
    "    │   └── 20230118T18Z.parquet\n",
    "    ├── forcing_short_range\n",
    "    │   ├── 20221218T00Z.parquet\n",
    "    │   ├── ...\n",
    "    │   └── 20230118T23Z.parquet\n",
    "    ├── medium_range_mem1\n",
    "    │   ├── 20221218T00Z.parquet\n",
    "    │   ├── ...\n",
    "    │   └── 20230116T18Z.parquet\n",
    "    ├── short_range\n",
    "    │   ├── 20221218T00Z.parquet\n",
    "    │   ├── ...\n",
    "    │   └── 20230118T23Z.parquet\n",
    "    └── usgs\n",
    "        ├── 20221218.parquet\n",
    "        ├── ...\n",
    "        └── 20230126.parquet\n",
    "```"
   ]
  },
  {
   "cell_type": "markdown",
   "id": "a517224c-4a15-4efa-a8c6-f7e5ae7f40a3",
   "metadata": {},
   "source": [
    "Paths to files can refer to a single file, such as `/home/usre/study/timeseries.parquet`, or can contain wildcards such as `/home/usre/study/*.parquet` to reference mutiple files."
   ]
  },
  {
   "cell_type": "markdown",
   "id": "cd71bb27-4509-4de8-8ca1-9a62da372eda",
   "metadata": {},
   "source": [
    "We can even read from a cloud bucket such as AWS S3.  More on this later."
   ]
  },
  {
   "cell_type": "code",
   "execution_count": null,
   "id": "03fd48f2-0945-45da-a664-0f5cdb232977",
   "metadata": {},
   "outputs": [],
   "source": []
  }
 ],
 "metadata": {
  "kernelspec": {
   "display_name": "Python 3 (ipykernel)",
   "language": "python",
   "name": "python3"
  },
  "language_info": {
   "codemirror_mode": {
    "name": "ipython",
    "version": 3
   },
   "file_extension": ".py",
   "mimetype": "text/x-python",
   "name": "python",
   "nbconvert_exporter": "python",
   "pygments_lexer": "ipython3",
   "version": "3.10.8"
  }
 },
 "nbformat": 4,
 "nbformat_minor": 5
}
