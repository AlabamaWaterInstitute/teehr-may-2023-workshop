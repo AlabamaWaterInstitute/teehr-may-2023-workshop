version https://git-lfs.github.com/spec/v1
oid sha256:4363676fdbc1648cb06066a8869942eaafcd5dd5b125ad43e71ec1057d156b96
size 3346
