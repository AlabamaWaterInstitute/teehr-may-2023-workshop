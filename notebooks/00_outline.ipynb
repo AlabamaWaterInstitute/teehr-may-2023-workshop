version https://git-lfs.github.com/spec/v1
oid sha256:1740bcfa2a4549fd1b4bd67eec6f863b04e753fc3d215df72c09d1092632440b
size 3680
