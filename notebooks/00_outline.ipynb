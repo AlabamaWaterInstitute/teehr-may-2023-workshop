{
 "cells": [
  {
   "attachments": {},
   "cell_type": "markdown",
   "id": "0fed4f28-29af-42f9-a5e0-ea6741141f3c",
   "metadata": {},
   "source": [
    "# Welcome to the TEEHR Workshop at the May 2023 CIROH Developers Conference"
   ]
  },
  {
   "attachments": {},
   "cell_type": "markdown",
   "id": "f51585be-7016-46d5-a7f9-72a96c9be0cd",
   "metadata": {},
   "source": [
    "## Workshop Outline\n",
    "The following is the outline of what we intend to cover in the technical hands-on portion os the workshop:\n",
    "\n",
    "**01 - Getting Started**\n",
    "- Get the TEEHR library installed check out the doc string\n",
    "\n",
    "\n",
    "**02 - The Data Cache**\n",
    "- Learn about the data cache file formats and directory structure\n",
    "\n",
    "\n",
    "**03 - Loading Data**\n",
    "- Review the loading library\n",
    "\n",
    "\n",
    "**03 - Queries**\n",
    "- Learn about the query library and try it out.\n",
    "    - Timeseries\n",
    "    - Joined timeseries\n",
    "    - Metrics\n",
    "\n",
    "## Extra Topics\n",
    "The following is the outline covers examples we put together that may be interesting to you but that we don't have time to cover.  Explore on your own.\n",
    "\n",
    "**0x - Explore NextGen**\n",
    "- Convert NextGen output to TEEHR format and explore."
   ]
  },
  {
   "attachments": {},
   "cell_type": "markdown",
   "id": "3b2f2e2b-5439-4d45-8f5b-5559a3b7bcd6",
   "metadata": {},
   "source": [
    "## Disclaimers\n",
    "There are lots of way to approach this problem or generating statistical metrics while maintaining access and availability of the source data for deeper exploration.  We have learned a lot while getting to our current the point and have lots of ideas for future paths to explore.  We would love to hear your ideas too."
   ]
  },
  {
   "cell_type": "code",
   "execution_count": null,
   "id": "bc99c0a7",
   "metadata": {},
   "outputs": [],
   "source": []
  }
 ],
 "metadata": {
  "kernelspec": {
   "display_name": "Python 3 (ipykernel)",
   "language": "python",
   "name": "python3"
  },
  "language_info": {
   "codemirror_mode": {
    "name": "ipython",
    "version": 3
   },
   "file_extension": ".py",
   "mimetype": "text/x-python",
   "name": "python",
   "nbconvert_exporter": "python",
   "pygments_lexer": "ipython3",
   "version": "3.10.10"
  }
 },
 "nbformat": 4,
 "nbformat_minor": 5
}
