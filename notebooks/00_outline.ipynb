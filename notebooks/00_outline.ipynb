{
 "cells": [
  {
   "cell_type": "markdown",
   "id": "0fed4f28-29af-42f9-a5e0-ea6741141f3c",
   "metadata": {},
   "source": [
    "# Welcome to the TEEHR Workshop at the May 2023 CIROH Developers Conference"
   ]
  },
  {
   "cell_type": "markdown",
   "id": "f51585be-7016-46d5-a7f9-72a96c9be0cd",
   "metadata": {},
   "source": [
    "## Workshop Outline\n",
    "The following is the outline of what we intend to cover in the technical hands-on portion os the workshop:\n",
    "\n",
    "**01 - Getting Started**\n",
    "- Get the TEEHR library installed check out the doc string\n",
    "\n",
    "\n",
    "**02 - The Data Model**\n",
    "- Learn ...\n",
    "\n",
    "\n",
    "**03 - The Data Cache**\n",
    "- Learn ...\n",
    "\n",
    "\n",
    "**04 - Data Loading**\n",
    "- Review the loading library\n",
    "\n",
    "\n",
    "**05 - DuckDB Queries**\n",
    "- Review ...\n",
    "\n",
    "\n",
    "**05 - TEEHR Queries**\n",
    "- Learn about the TEEHR query library and try it out.\n",
    "    - Timeseries\n",
    "    - Timeseries Characteristics\n",
    "    - Joined timeseries\n",
    "    - Metrics\n",
    "\n",
    "## Extra Topics\n",
    "The following is the outline covers examples we put together that may be interesting to you but that we don't have time to cover.  Explore on your own.\n",
    "\n",
    "**100 - Convert NGEN to TEEHR**\n",
    "- Convert NextGen output to TEEHR format and explore.\n",
    "\n",
    "\n",
    "**101 - Explore NGEN Output**\n",
    "- Explore and visualize the NGEN data cconverted in `100 - Convert NGEN to TEEHR`.\n",
    "\n",
    "\n",
    "**102 - Explore Retrospective**\n",
    "- Explore the retrospective"
   ]
  },
  {
   "cell_type": "markdown",
   "id": "3b2f2e2b-5439-4d45-8f5b-5559a3b7bcd6",
   "metadata": {},
   "source": [
    "## Disclaimers\n",
    "There are lots of way to approach this problem ofgenerating statistical metrics while maintaining access and availability of the source data for deeper exploration.  We have learned a lot while getting to our current the point and have lots of ideas for future paths to explore.  We would love to hear your ideas too."
   ]
  },
  {
   "cell_type": "code",
   "execution_count": null,
   "id": "bc99c0a7",
   "metadata": {},
   "outputs": [],
   "source": []
  }
 ],
 "metadata": {
  "kernelspec": {
   "display_name": "Python 3 (ipykernel)",
   "language": "python",
   "name": "python3"
  },
  "language_info": {
   "codemirror_mode": {
    "name": "ipython",
    "version": 3
   },
   "file_extension": ".py",
   "mimetype": "text/x-python",
   "name": "python",
   "nbconvert_exporter": "python",
   "pygments_lexer": "ipython3",
   "version": "3.10.8"
  }
 },
 "nbformat": 4,
 "nbformat_minor": 5
}
