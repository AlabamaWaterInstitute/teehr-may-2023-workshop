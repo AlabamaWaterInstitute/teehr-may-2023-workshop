version https://git-lfs.github.com/spec/v1
oid sha256:828089638f31a729cc29fa2b38546dbc80ad2528cb7327420792311ab76e68f1
size 3416
