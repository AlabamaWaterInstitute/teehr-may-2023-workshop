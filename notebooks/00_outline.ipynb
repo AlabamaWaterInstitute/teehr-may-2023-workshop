version https://git-lfs.github.com/spec/v1
oid sha256:99be0ad68f3662abcbe1584b9c461a07e56075274f89b8b36eab414116030045
size 3679
