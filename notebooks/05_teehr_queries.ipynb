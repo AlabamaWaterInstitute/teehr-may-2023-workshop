version https://git-lfs.github.com/spec/v1
oid sha256:d1a17d6fdb3d590e9adde0ace70de0a4833a78e8f11fcb2a30f427c26db37456
size 7588125
