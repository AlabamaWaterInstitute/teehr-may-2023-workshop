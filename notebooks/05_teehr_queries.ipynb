version https://git-lfs.github.com/spec/v1
oid sha256:3a3bdeca618c19005f7adcf4b0ae42ef77d2facbc4be48f4c7588285a737fc3b
size 7590009
