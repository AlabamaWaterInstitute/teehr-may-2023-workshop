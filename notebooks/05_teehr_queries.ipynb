version https://git-lfs.github.com/spec/v1
oid sha256:982c7181564b6667b5a255fb64fad84bcbbc9259d24014eb172eaf0426e31596
size 7590404
