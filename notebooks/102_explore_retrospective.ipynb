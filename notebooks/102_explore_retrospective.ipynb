{
 "cells": [
  {
   "cell_type": "markdown",
   "id": "8ddbe159-a135-44d3-9037-e558a501f714",
   "metadata": {},
   "source": [
    "# 102 - Explore Retrospective\n",
    "As an exmaple of a retrospective evaluation, we cached simulated and observed flows of 49 gages in HUC4 1802 in California, for both NWM v2.0 and NWM v2.1.  This gives us 2 simulated timeseries to compare to observed, to assess and start to think about standardizing the way we answer the question, \"which is better\".\n",
    "\n",
    "There is significant work in this area to identify different ways to compare metrics between simulations."
   ]
  },
  {
   "cell_type": "code",
   "execution_count": null,
   "id": "b99539f6-3460-4331-9c2e-d0cbac769fd0",
   "metadata": {},
   "outputs": [],
   "source": [
    "# Import the required packages.\n",
    "import sys\n",
    "from pathlib import Path\n",
    "import duckdb\n",
    "import pandas as pd\n",
    "import geopandas as gpd\n",
    "\n",
    "import holoviews as hv\n",
    "import geoviews as gv\n",
    "import teehr.queries.duckdb as tqd\n",
    "import teehr.queries.pandas as tqp\n",
    "import hvplot.pandas\n",
    "import cartopy.crs as ccrs\n",
    "from holoviews import opts"
   ]
  },
  {
   "cell_type": "code",
   "execution_count": null,
   "id": "02b043dc-ac82-48fa-a686-713a634fee33",
   "metadata": {},
   "outputs": [],
   "source": [
    "# Set some notebook variables to point to the relevant study files.\n",
    "USGS_TIMESERIES_FILE = Path(Path().home(), \"cache/huc1802_retro/timeseries/usgs.parquet\")\n",
    "NWM21_TIMESERIES_FILE = Path(Path().home(), \"cache/huc1802_retro/timeseries/nwm21_retro.parquet\")\n",
    "NWM20_TIMESERIES_FILE = Path(Path().home(), \"cache/huc1802_retro/timeseries/nwm20_retro.parquet\")\n",
    "\n",
    "USGS_NWM22_CROSSWALK = Path(Path().home(), \"shared/rti-eval/post-event-example/geo/usgs_nwm22_crosswalk.parquet\")\n",
    "USGS_HUC12_CROSSWALK = Path(Path().home(), \"shared/rti-eval/post-event-example/geo/usgs_huc12_crosswalk.parquet\")\n",
    "USGS_GEOMETRY = Path(Path().home(), \"shared/rti-eval/post-event-example/geo/usgs_geometry.parquet\")"
   ]
  },
  {
   "cell_type": "code",
   "execution_count": null,
   "id": "5f6fef55-2837-4bcf-b354-4f92f4721661",
   "metadata": {},
   "outputs": [],
   "source": [
    "# ?tqd.get_metrics"
   ]
  },
  {
   "cell_type": "code",
   "execution_count": null,
   "id": "2df7250b-cc4a-4047-ae17-5f6e01be4d86",
   "metadata": {},
   "outputs": [],
   "source": [
    "filters = [\n",
    "    {\n",
    "        \"column\": \"value_time\",\n",
    "        \"operator\": \">=\",\n",
    "        \"value\": \"1993-01-01\"\n",
    "    },\n",
    "    {\n",
    "        \"column\": \"value_time\",\n",
    "        \"operator\": \"<\",\n",
    "        \"value\": \"2019-01-01\"\n",
    "    },\n",
    "    {\n",
    "        \"column\": \"primary_value\",\n",
    "        \"operator\": \">\",\n",
    "        \"value\": 0\n",
    "    },\n",
    "]\n",
    "variable_name = \"bias\""
   ]
  },
  {
   "cell_type": "code",
   "execution_count": null,
   "id": "d43627d6-915e-4f50-af37-155d11a7d1a1",
   "metadata": {},
   "outputs": [],
   "source": [
    "%%time\n",
    "nwm21_metrics = tqd.get_metrics(\n",
    "        primary_filepath=USGS_TIMESERIES_FILE,\n",
    "        secondary_filepath=NWM21_TIMESERIES_FILE,\n",
    "        crosswalk_filepath=USGS_NWM22_CROSSWALK,\n",
    "        geometry_filepath=USGS_GEOMETRY,\n",
    "        group_by=[\"primary_location_id\"],\n",
    "        order_by=[\"primary_location_id\"],\n",
    "        include_metrics=[variable_name],\n",
    "        return_query=False,\n",
    "        include_geometry=True,\n",
    "        filters=filters\n",
    ")"
   ]
  },
  {
   "cell_type": "code",
   "execution_count": null,
   "id": "4d7abd27-f734-487b-b0ba-43066c753613",
   "metadata": {},
   "outputs": [],
   "source": [
    "nwm21_metrics.head()"
   ]
  },
  {
   "cell_type": "code",
   "execution_count": null,
   "id": "c078e024-b5fd-4ffe-bc2e-d3c0b4829f08",
   "metadata": {},
   "outputs": [],
   "source": [
    "%%time\n",
    "nwm20_metrics = tqd.get_metrics(\n",
    "        primary_filepath=USGS_TIMESERIES_FILE,\n",
    "        secondary_filepath=NWM20_TIMESERIES_FILE,\n",
    "        crosswalk_filepath=USGS_NWM22_CROSSWALK,\n",
    "        geometry_filepath=USGS_GEOMETRY,\n",
    "        group_by=[\"primary_location_id\"],\n",
    "        order_by=[\"primary_location_id\"],\n",
    "        include_metrics=[variable_name],\n",
    "        return_query=False,\n",
    "        include_geometry=True,\n",
    "        filters=filters\n",
    ")"
   ]
  },
  {
   "cell_type": "code",
   "execution_count": null,
   "id": "3ab8cdb6-b79f-4245-988e-48138f2f3f20",
   "metadata": {},
   "outputs": [],
   "source": [
    "nwm20_metrics.head()"
   ]
  },
  {
   "cell_type": "code",
   "execution_count": null,
   "id": "10762315-84c0-4522-b363-c10b9e058916",
   "metadata": {},
   "outputs": [],
   "source": [
    "nwm_compare = nwm20_metrics.merge(\n",
    "    nwm21_metrics,\n",
    "    on=\"primary_location_id\",\n",
    "    suffixes=('_nwm20', '_nwm21')\n",
    ")"
   ]
  },
  {
   "cell_type": "code",
   "execution_count": null,
   "id": "e942a5df-495f-45e9-80bd-697f94622b89",
   "metadata": {},
   "outputs": [],
   "source": [
    "nwm_compare[f\"abs_{variable_name}_nwm21\"] = nwm_compare[f\"{variable_name}_nwm21\"].abs()\n",
    "nwm_compare[f\"abs_{variable_name}_nwm20\"] = nwm_compare[f\"{variable_name}_nwm20\"].abs()\n",
    "nwm_compare[f\"abs_{variable_name}_delta\"] = nwm_compare[f\"abs_{variable_name}_nwm21\"] - nwm_compare[f\"abs_{variable_name}_nwm20\"]\n",
    "nwm_compare.sort_values(by=f\"abs_{variable_name}_delta\", inplace=True)\n",
    "nwm_compare[[\n",
    "    \"primary_location_id\",\n",
    "    f\"{variable_name}_nwm20\", \n",
    "    f\"{variable_name}_nwm21\", \n",
    "    f\"abs_{variable_name}_nwm21\", \n",
    "    f\"abs_{variable_name}_nwm20\",\n",
    "    f\"abs_{variable_name}_delta\"\n",
    "]]"
   ]
  },
  {
   "cell_type": "code",
   "execution_count": null,
   "id": "aff364e8-b860-4429-ba32-f1191ae667d6",
   "metadata": {},
   "outputs": [],
   "source": [
    "compare_gdf = gpd.GeoDataFrame(nwm_compare, geometry=\"geometry_nwm20\").to_crs(\"EPSG:3857\")"
   ]
  },
  {
   "cell_type": "code",
   "execution_count": null,
   "id": "6c68d8d8-8c6d-4e88-8622-82420f7b1ade",
   "metadata": {},
   "outputs": [],
   "source": [
    "tiles = gv.tile_sources.OSM\n",
    "usgs = compare_gdf.hvplot(c=f\"abs_{variable_name}_delta\", hover_cols=[\"primary_location_id\"], crs=ccrs.GOOGLE_MERCATOR, cmap=\"bgy\")\n",
    "(usgs * tiles).opts(width=600, height=600, show_legend=False)"
   ]
  },
  {
   "cell_type": "code",
   "execution_count": null,
   "id": "f531c5d1-f75a-44dc-af01-1f8c11087893",
   "metadata": {},
   "outputs": [],
   "source": [
    "%%time\n",
    "filters=[\n",
    "    {\n",
    "        \"column\": \"primary_location_id\",\n",
    "        \"operator\": \"in\",\n",
    "        \"value\": [\"usgs-11345500\", \"usgs-11447905\"]\n",
    "    }\n",
    "]\n",
    "nwm21_timeseries = tqd.get_joined_timeseries(\n",
    "        primary_filepath=USGS_TIMESERIES_FILE,\n",
    "        secondary_filepath=NWM21_TIMESERIES_FILE,\n",
    "        crosswalk_filepath=USGS_NWM22_CROSSWALK,\n",
    "        order_by=[\"primary_location_id\", \"value_time\"],\n",
    "        return_query=False,\n",
    "        filters=filters\n",
    ")\n",
    "nwm20_timeseries = tqd.get_joined_timeseries(\n",
    "        primary_filepath=USGS_TIMESERIES_FILE,\n",
    "        secondary_filepath=NWM20_TIMESERIES_FILE,\n",
    "        crosswalk_filepath=USGS_NWM22_CROSSWALK,\n",
    "        order_by=[\"primary_location_id\", \"value_time\"],\n",
    "        return_query=False,\n",
    "        filters=filters\n",
    ")\n",
    "merged_timeseries = nwm20_timeseries.merge(\n",
    "    nwm21_timeseries,\n",
    "    on=[\"primary_location_id\", \"value_time\"],\n",
    "    suffixes=('_nwm20', '_nwm21')\n",
    ")"
   ]
  },
  {
   "cell_type": "code",
   "execution_count": null,
   "id": "c6389e3a-4408-4407-a820-e9d522683f1c",
   "metadata": {},
   "outputs": [],
   "source": [
    "merged_timeseries = merged_timeseries[[\"primary_location_id\", \"value_time\", \"primary_value_nwm20\", \"secondary_value_nwm20\", \"secondary_value_nwm21\"]]"
   ]
  },
  {
   "cell_type": "code",
   "execution_count": null,
   "id": "75d3dbb9-50b1-4711-9e0f-4d7f0e9b8df5",
   "metadata": {},
   "outputs": [],
   "source": [
    "merged_timeseries.loc[\n",
    "    merged_timeseries[\"primary_location_id\"]==\"usgs-11345500\"\n",
    "].hvplot(x=\"value_time\", y=[\"primary_value_nwm20\", \"secondary_value_nwm20\", \"secondary_value_nwm21\"]).opts(width=1000)"
   ]
  },
  {
   "cell_type": "code",
   "execution_count": null,
   "id": "17b0f405-3a5f-4c5a-9022-0aedb37f0a82",
   "metadata": {},
   "outputs": [],
   "source": [
    "merged_timeseries.loc[\n",
    "    merged_timeseries[\"primary_location_id\"]==\"usgs-11447905\"\n",
    "].hvplot(x=\"value_time\", y=[\"primary_value_nwm20\", \"secondary_value_nwm20\", \"secondary_value_nwm21\"]).opts(width=1000)"
   ]
  },
  {
   "cell_type": "code",
   "execution_count": null,
   "id": "3e941174-adea-4192-8061-14d5e9426e0a",
   "metadata": {},
   "outputs": [],
   "source": []
  }
 ],
 "metadata": {
  "kernelspec": {
   "display_name": "Python 3 (ipykernel)",
   "language": "python",
   "name": "python3"
  },
  "language_info": {
   "codemirror_mode": {
    "name": "ipython",
    "version": 3
   },
   "file_extension": ".py",
   "mimetype": "text/x-python",
   "name": "python",
   "nbconvert_exporter": "python",
   "pygments_lexer": "ipython3",
   "version": "3.10.8"
  }
 },
 "nbformat": 4,
 "nbformat_minor": 5
}
