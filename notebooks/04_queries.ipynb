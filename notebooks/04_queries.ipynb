{
 "cells": [
  {
   "cell_type": "markdown",
   "id": "29926ab4-066b-46e8-992c-6795bb9e1d5f",
   "metadata": {},
   "source": [
    "# 03 - Queries\n",
    "The TEEHR library has "
   ]
  },
  {
   "cell_type": "code",
   "execution_count": null,
   "id": "6a7319ff-a0a8-49b0-a3da-06f1be57c399",
   "metadata": {},
   "outputs": [],
   "source": [
    "import duckdb\n",
    "from pathlib import Path\n",
    "import teehr.queries.duckdb as tqd"
   ]
  },
  {
   "cell_type": "code",
   "execution_count": null,
   "id": "54bc33cd-7c8b-45a8-b391-be299477d3dd",
   "metadata": {},
   "outputs": [],
   "source": [
    "CACHE_DIR = Path(Path.home(), \"shared\", \"rti-eval\")\n",
    "STUDY_DIR = Path(CACHE_DIR, \"post-event-example\")\n",
    "USGS = Path(STUDY_DIR, \"timeseries/usgs/*.parquet\")\n",
    "MEDIUM_RANGE_MEM1 = Path(STUDY_DIR, \"timeseries/medium_range_mem1/*.parquet\")\n",
    "CROSSWALK = Path(STUDY_DIR, \"geo/usgs_nwm22_crosswalk.parquet\")\n",
    "GEOMETRY = Path(STUDY_DIR, \"geo/usgs_geometry.parquet\")"
   ]
  },
  {
   "cell_type": "code",
   "execution_count": null,
   "id": "12034131-24dd-43bc-a4ac-b53e07b9714f",
   "metadata": {},
   "outputs": [],
   "source": [
    "?tqd.get_metrics"
   ]
  },
  {
   "cell_type": "code",
   "execution_count": null,
   "id": "9cf1177c-df9f-4b1f-9dbf-a85501982d4d",
   "metadata": {},
   "outputs": [],
   "source": [
    "%%time\n",
    "query_df = tqd.get_metrics(\n",
    "    primary_filepath=USGS,\n",
    "    secondary_filepath=MEDIUM_RANGE_MEM1,\n",
    "    crosswalk_filepath=CROSSWALK,\n",
    "    group_by=[\"primary_location_id\", \"reference_time\"],\n",
    "    order_by=[\"primary_location_id\"],\n",
    "    include_metrics=[\"bias\"],\n",
    "    # filters=[]\n",
    "    return_query=False,\n",
    "    geometry_filepath=GEOMETRY,\n",
    "    include_geometry=False,\n",
    ")"
   ]
  },
  {
   "cell_type": "code",
   "execution_count": null,
   "id": "30d57b6a-93b3-4ceb-b057-c6122ff50484",
   "metadata": {},
   "outputs": [],
   "source": [
    "%%time\n",
    "import re\n",
    "query_str = tqd.get_metrics(\n",
    "    primary_filepath=USGS,\n",
    "    secondary_filepath=MEDIUM_RANGE_MEM1,\n",
    "    crosswalk_filepath=CROSSWALK,\n",
    "    group_by=[\"primary_location_id\"],\n",
    "    order_by=[\"primary_location_id\"],\n",
    "    include_metrics=[\"bias\"],\n",
    "    # filters=[]\n",
    "    return_query=True,\n",
    "    geometry_filepath=GEOMETRY,\n",
    "    include_geometry=False,\n",
    ")\n",
    "print(re.sub(r\"\\n+\", \"\\n\", query_str))"
   ]
  },
  {
   "cell_type": "code",
   "execution_count": null,
   "id": "d749be75-f85b-4660-9fc7-27eb131da873",
   "metadata": {},
   "outputs": [],
   "source": [
    "%%time\n",
    "duckdb.query(f\"\"\"\n",
    "WITH joined as (\n",
    "            SELECT\n",
    "                sf.reference_time\n",
    "                , sf.value_time as value_time\n",
    "                , sf.location_id as secondary_location_id\n",
    "                , sf.value as secondary_value\n",
    "                , sf.configuration\n",
    "                , sf.measurement_unit\n",
    "                , sf.variable_name\n",
    "                , pf.value as primary_value\n",
    "                , pf.location_id as primary_location_id\n",
    "                , sf.value_time - sf.reference_time as lead_time\n",
    "                , abs(pf.value - sf.value) as absolute_difference\n",
    "            FROM read_parquet('/home/jovyan/shared/rti-eval/post-event-example/timeseries/medium_range_mem1/*.parquet', union_by_name=True) sf\n",
    "            JOIN read_parquet('/home/jovyan/shared/rti-eval/post-event-example/geo/usgs_nwm22_crosswalk.parquet', union_by_name=True) cf\n",
    "                on cf.secondary_location_id = sf.location_id\n",
    "            JOIN read_parquet('/home/jovyan/shared/rti-eval/post-event-example/timeseries/usgs/*.parquet') pf\n",
    "                on cf.primary_location_id = pf.location_id\n",
    "                and sf.value_time = pf.value_time\n",
    "                and sf.measurement_unit = pf.measurement_unit\n",
    "                and sf.variable_name = pf.variable_name\n",
    "            --no where clause\n",
    "        )\n",
    "        , metrics AS (\n",
    "            SELECT\n",
    "                joined.primary_location_id\n",
    "                , sum(primary_value - secondary_value)/count(*) as bias\n",
    "            FROM\n",
    "                joined\n",
    "            GROUP BY\n",
    "                joined.primary_location_id\n",
    "            ORDER BY\n",
    "                joined.primary_location_id\n",
    "        )\n",
    "        SELECT\n",
    "            metrics.*\n",
    "        FROM metrics  \n",
    "    ;\n",
    "\"\"\").df()"
   ]
  },
  {
   "cell_type": "code",
   "execution_count": null,
   "id": "e7c5d392-22df-4cfd-9957-24033e909ed6",
   "metadata": {},
   "outputs": [],
   "source": []
  }
 ],
 "metadata": {
  "kernelspec": {
   "display_name": "Python 3 (ipykernel)",
   "language": "python",
   "name": "python3"
  },
  "language_info": {
   "codemirror_mode": {
    "name": "ipython",
    "version": 3
   },
   "file_extension": ".py",
   "mimetype": "text/x-python",
   "name": "python",
   "nbconvert_exporter": "python",
   "pygments_lexer": "ipython3",
   "version": "3.10.8"
  }
 },
 "nbformat": 4,
 "nbformat_minor": 5
}
