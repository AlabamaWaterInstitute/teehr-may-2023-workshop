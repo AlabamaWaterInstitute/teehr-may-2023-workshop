version https://git-lfs.github.com/spec/v1
oid sha256:2951456241a2594a3752147a4bc83cc4185da4b76a0e37e664f9f844b19afe7d
size 24117
