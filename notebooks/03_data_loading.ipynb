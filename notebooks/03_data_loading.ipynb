{
 "cells": [
  {
   "cell_type": "markdown",
   "id": "86a0e90f-ea6c-49a6-8f9c-4cc1d89706a1",
   "metadata": {},
   "source": [
    "# 02 - Loading Data"
   ]
  },
  {
   "cell_type": "code",
   "execution_count": null,
   "id": "f27a0003-e9be-4f1d-9e83-790ad3148609",
   "metadata": {},
   "outputs": [],
   "source": [
    "import teehr.loading.nwm_point_data as nwmp\n",
    "from pathlib import Path"
   ]
  },
  {
   "cell_type": "code",
   "execution_count": null,
   "id": "f5d5e691-506d-46ee-9f66-e18e5de09a3f",
   "metadata": {},
   "outputs": [],
   "source": [
    "?nwmp.nwm_to_parquet"
   ]
  },
  {
   "cell_type": "code",
   "execution_count": null,
   "id": "2745dba2-b125-429d-a1e6-21c434e0fae4",
   "metadata": {},
   "outputs": [],
   "source": [
    "# Set some notebook variables to point to the relevant study files.  \n",
    "RUN = \"short_range\"\n",
    "OUTPUT_TYPE = \"channel_rt\"\n",
    "VARIABLE_NAME = \"streamflow\"\n",
    "\n",
    "START_DATE = \"2023-03-18\"\n",
    "INGEST_DAYS = 1\n",
    "\n",
    "OUTPUT_ROOT = Path(Path().home(), \"cache\")\n",
    "JSON_DIR = Path(OUTPUT_ROOT, \"zarr\", RUN)\n",
    "OUTPUT_DIR = Path(OUTPUT_ROOT, \"timeseries\", RUN)\n",
    "\n",
    "# For this simple example, we'll get data for 10 NWM reaches that coincide with USGS gauges\n",
    "LOCATION_IDS = [7086109,  7040481,  7053819,  7111205,  7110249, 14299781, 14251875, 14267476,  7152082, 14828145]"
   ]
  },
  {
   "cell_type": "code",
   "execution_count": null,
   "id": "7c60d48e-1847-498d-9909-d004c7693a1a",
   "metadata": {},
   "outputs": [],
   "source": [
    "from dask.distributed import Client\n",
    "client = Client(n_workers=8)\n",
    "client"
   ]
  },
  {
   "cell_type": "code",
   "execution_count": null,
   "id": "e13a1ec7-a8ca-45cd-869d-a3c7bcc26b11",
   "metadata": {},
   "outputs": [],
   "source": [
    "%%time\n",
    "nwmp.nwm_to_parquet(\n",
    "    RUN,\n",
    "    OUTPUT_TYPE,\n",
    "    VARIABLE_NAME,\n",
    "    START_DATE,\n",
    "    INGEST_DAYS,\n",
    "    LOCATION_IDS,\n",
    "    JSON_DIR,\n",
    "    OUTPUT_DIR\n",
    ")"
   ]
  },
  {
   "cell_type": "code",
   "execution_count": null,
   "id": "e13aa731-9cb0-4540-a357-1603b52de29b",
   "metadata": {},
   "outputs": [],
   "source": [
    "!tree ~/cache/"
   ]
  },
  {
   "cell_type": "code",
   "execution_count": null,
   "id": "1c8aa5c7-e918-4785-a015-8ee1f5f77604",
   "metadata": {},
   "outputs": [],
   "source": []
  }
 ],
 "metadata": {
  "kernelspec": {
   "display_name": "Python 3 (ipykernel)",
   "language": "python",
   "name": "python3"
  },
  "language_info": {
   "codemirror_mode": {
    "name": "ipython",
    "version": 3
   },
   "file_extension": ".py",
   "mimetype": "text/x-python",
   "name": "python",
   "nbconvert_exporter": "python",
   "pygments_lexer": "ipython3",
   "version": "3.10.8"
  }
 },
 "nbformat": 4,
 "nbformat_minor": 5
}
