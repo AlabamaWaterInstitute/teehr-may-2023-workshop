version https://git-lfs.github.com/spec/v1
oid sha256:316b0f23345bd63f5a78217a9b0c6e66b5bfa65118ed1e60e38fdd42e1f3f95e
size 24117
