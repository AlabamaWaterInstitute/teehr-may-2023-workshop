{
 "cells": [
  {
   "cell_type": "markdown",
   "id": "29926ab4-066b-46e8-992c-6795bb9e1d5f",
   "metadata": {},
   "source": [
    "# 03 - DuckDB Queries\n",
    "With the timeseries, geospatial, crosswalk and attribute table data stored in parquet files, using DuckBD we can explore the data using SQL.\n",
    "\n",
    "NOTE: The example code provided is not safe from SQL injection.  It is provided to demonstrate the power of DuckDB to query data stored in Parquet files."
   ]
  },
  {
   "cell_type": "code",
   "execution_count": null,
   "id": "6a7319ff-a0a8-49b0-a3da-06f1be57c399",
   "metadata": {},
   "outputs": [],
   "source": [
    "import duckdb\n",
    "from pathlib import Path"
   ]
  },
  {
   "cell_type": "code",
   "execution_count": null,
   "id": "54bc33cd-7c8b-45a8-b391-be299477d3dd",
   "metadata": {},
   "outputs": [],
   "source": [
    "CACHE_DIR = Path(Path.home(), \"shared\", \"rti-eval\")\n",
    "STUDY_DIR = Path(CACHE_DIR, \"post-event-example\")\n",
    "USGS = Path(STUDY_DIR, \"timeseries/usgs/*.parquet\")\n",
    "MEDIUM_RANGE_MEM1 = Path(STUDY_DIR, \"timeseries/medium_range_mem1/*.parquet\")\n",
    "SHORT_RANGE = Path(STUDY_DIR, \"timeseries/short_range/*.parquet\")\n",
    "CROSSWALK = Path(STUDY_DIR, \"geo/usgs_nwm22_crosswalk.parquet\")\n",
    "GEOMETRY = Path(STUDY_DIR, \"geo/usgs_geometry.parquet\")"
   ]
  },
  {
   "cell_type": "markdown",
   "id": "325138a6-7a74-4541-a2b4-7d7b1c4bac2d",
   "metadata": {},
   "source": [
    "We will write a few simple SQL queries to demonstrate how DuckBD can be used to query the data we stored in the Parquet files.\n",
    "\n",
    "First, lets just see how many rows are in one of the timeseries \"tables\"."
   ]
  },
  {
   "cell_type": "code",
   "execution_count": null,
   "id": "e7c5d392-22df-4cfd-9957-24033e909ed6",
   "metadata": {},
   "outputs": [],
   "source": [
    "duckdb.query(f\"SELECT count(*) FROM read_parquet('{SHORT_RANGE}');\")"
   ]
  },
  {
   "cell_type": "markdown",
   "id": "d90c9c63-09c6-4a6f-a983-93f0eaf8ed1d",
   "metadata": {},
   "source": [
    "Now lets see how many unique `referece_times` are in the timeseries table."
   ]
  },
  {
   "cell_type": "code",
   "execution_count": null,
   "id": "f440ee8d-d253-4c3b-8fdf-bf2fd72ae874",
   "metadata": {},
   "outputs": [],
   "source": [
    "duckdb.query(f\"SELECT count(DISTINCT reference_time) as reference_time_count FROM read_parquet('{SHORT_RANGE}');\")"
   ]
  },
  {
   "cell_type": "markdown",
   "id": "7c597564-8221-4a11-bd62-9b14d3ab0366",
   "metadata": {},
   "source": [
    "See a single row from from the timeseries data."
   ]
  },
  {
   "cell_type": "code",
   "execution_count": null,
   "id": "e346fe3c-6127-4422-ade2-f1e7ef833496",
   "metadata": {},
   "outputs": [],
   "source": [
    "duckdb.query(f\"\"\"\n",
    "    SELECT * FROM read_parquet('{SHORT_RANGE}') LIMIT 1;\n",
    "\"\"\")"
   ]
  },
  {
   "cell_type": "markdown",
   "id": "db3618f5-39b9-46d9-8f4b-d2c9a96ac6df",
   "metadata": {},
   "source": [
    "Now, just to show the power, lets join the observed USGS data to the short range forecast data and select a single forecast."
   ]
  },
  {
   "cell_type": "code",
   "execution_count": null,
   "id": "d2294fcd-e037-4317-b2e7-7cee52060b48",
   "metadata": {},
   "outputs": [],
   "source": [
    "duckdb.query(f\"\"\"\n",
    "    SELECT \n",
    "        u.location_id as primary_location_id,\n",
    "        sr.location_id as secondary_location_id,\n",
    "        sr.reference_time as reference_time,\n",
    "        u.value_time as value_time,\n",
    "        u.value as primary_value,\n",
    "        sr.value as secondary_value,\n",
    "    FROM read_parquet('{SHORT_RANGE}') sr\n",
    "    JOIN read_parquet('{CROSSWALK}') cw \n",
    "        ON sr.location_id = cw.secondary_location_id \n",
    "    JOIN read_parquet('{USGS}') u \n",
    "        ON cw.primary_location_id = u.location_id\n",
    "        AND sr.value_time = u.value_time\n",
    "    WHERE\n",
    "        primary_location_id = 'usgs-10336676' AND\n",
    "        sr.reference_time = '2023-01-02 16:00:00' AND\n",
    "        primary_value > 0\n",
    "    ORDER BY \n",
    "        sr.value_time DESC\n",
    "    LIMIT 10;\n",
    "\"\"\").to_df()"
   ]
  },
  {
   "cell_type": "markdown",
   "id": "a8357089-cbe4-4d93-962b-e744da60e66e",
   "metadata": {},
   "source": [
    "This starts to get trciky as the queries get more complex.  This is where TEEHR queries library comes in."
   ]
  },
  {
   "cell_type": "code",
   "execution_count": null,
   "id": "9c1bbfa5-8d08-4f53-8c91-c0fd5c0afe89",
   "metadata": {},
   "outputs": [],
   "source": []
  }
 ],
 "metadata": {
  "kernelspec": {
   "display_name": "Python 3 (ipykernel)",
   "language": "python",
   "name": "python3"
  },
  "language_info": {
   "codemirror_mode": {
    "name": "ipython",
    "version": 3
   },
   "file_extension": ".py",
   "mimetype": "text/x-python",
   "name": "python",
   "nbconvert_exporter": "python",
   "pygments_lexer": "ipython3",
   "version": "3.10.8"
  }
 },
 "nbformat": 4,
 "nbformat_minor": 5
}
