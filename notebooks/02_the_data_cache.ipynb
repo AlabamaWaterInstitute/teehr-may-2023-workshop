{
 "cells": [
  {
   "cell_type": "markdown",
   "id": "c5f2d507-6800-4f41-8cf5-6dc0e14757da",
   "metadata": {},
   "source": [
    "# 02 - The Data Cache\n",
    "In this module we will explore the cached data structure using DuckDB."
   ]
  },
  {
   "cell_type": "code",
   "execution_count": null,
   "id": "f70fbb5a-3dd9-49c5-b8c0-8daa5eb6ffec",
   "metadata": {},
   "outputs": [],
   "source": [
    "import duckdb"
   ]
  },
  {
   "cell_type": "code",
   "execution_count": null,
   "id": "0d0067f3-b26f-4206-b3b3-ea082dbd3722",
   "metadata": {},
   "outputs": [],
   "source": []
  }
 ],
 "metadata": {
  "kernelspec": {
   "display_name": "Python 3 (ipykernel)",
   "language": "python",
   "name": "python3"
  },
  "language_info": {
   "codemirror_mode": {
    "name": "ipython",
    "version": 3
   },
   "file_extension": ".py",
   "mimetype": "text/x-python",
   "name": "python",
   "nbconvert_exporter": "python",
   "pygments_lexer": "ipython3",
   "version": "3.10.8"
  }
 },
 "nbformat": 4,
 "nbformat_minor": 5
}
