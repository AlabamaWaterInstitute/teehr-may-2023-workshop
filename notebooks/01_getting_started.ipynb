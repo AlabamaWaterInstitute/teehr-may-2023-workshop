version https://git-lfs.github.com/spec/v1
oid sha256:43671d08adb0ce878338a3ca647cb834d637797d6118ae3997b14a2d87f8d409
size 13894
