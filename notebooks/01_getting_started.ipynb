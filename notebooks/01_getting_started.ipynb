{
 "cells": [
  {
   "cell_type": "markdown",
   "id": "0924ec49-cc42-4625-a61f-fdc6f2f0e736",
   "metadata": {},
   "source": [
    "# 01 - Getting Started\n",
    "The first thing we need to do is install the TEEHR library and make sure we can import the required packages."
   ]
  },
  {
   "cell_type": "code",
   "execution_count": null,
   "id": "4b12a975-6c82-4326-b19f-b031b1e39036",
   "metadata": {},
   "outputs": [],
   "source": [
    "%%capture\n",
    "!pip install 'teehr @ git+https://github.com/RTIInternational/teehr@main'"
   ]
  },
  {
   "cell_type": "code",
   "execution_count": null,
   "id": "d385a1d6-1fcc-45aa-9aa6-baaa9a71d0a2",
   "metadata": {},
   "outputs": [],
   "source": [
    "import teehr.queries.duckdb as tqd\n",
    "import teehr.loading.nwm_point_data as nwmp"
   ]
  },
  {
   "cell_type": "markdown",
   "id": "d7569ec6-f0ba-4b17-b8b6-e49d7f7f7351",
   "metadata": {},
   "source": [
    "## Getting Help\n",
    "We have tried to add informative doc strings to the functions that are intended to be called by users.  So, for example, in a notebook you can see the doc strings by running `?tqd.get_metrics`."
   ]
  },
  {
   "cell_type": "code",
   "execution_count": null,
   "id": "f68a4c65-bc0b-4312-8bc6-15af6c8161a0",
   "metadata": {},
   "outputs": [],
   "source": [
    "?tqd.get_metrics"
   ]
  },
  {
   "cell_type": "code",
   "execution_count": null,
   "id": "f50cce38-39f9-43b6-8543-6ad779479bc7",
   "metadata": {},
   "outputs": [],
   "source": [
    "?nwmp.nwm_to_parquet"
   ]
  },
  {
   "cell_type": "code",
   "execution_count": null,
   "id": "a66433d4-4d1f-4d2a-ba96-f5cfbf46e6a5",
   "metadata": {},
   "outputs": [],
   "source": []
  }
 ],
 "metadata": {
  "kernelspec": {
   "display_name": "Python 3 (ipykernel)",
   "language": "python",
   "name": "python3"
  },
  "language_info": {
   "codemirror_mode": {
    "name": "ipython",
    "version": 3
   },
   "file_extension": ".py",
   "mimetype": "text/x-python",
   "name": "python",
   "nbconvert_exporter": "python",
   "pygments_lexer": "ipython3",
   "version": "3.10.8"
  }
 },
 "nbformat": 4,
 "nbformat_minor": 5
}
