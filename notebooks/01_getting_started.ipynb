{
 "cells": [
  {
   "cell_type": "markdown",
   "id": "0924ec49-cc42-4625-a61f-fdc6f2f0e736",
   "metadata": {},
   "source": [
    "# 01 - Getting Started\n",
    "The first thing we need to do is install the TEEHR library and make sure we can import the required packages."
   ]
  },
  {
   "cell_type": "code",
   "execution_count": null,
   "id": "4b12a975-6c82-4326-b19f-b031b1e39036",
   "metadata": {},
   "outputs": [],
   "source": [
    "%%capture\n",
    "!pip install 'teehr @ git+https://github.com/AlabamaWaterInstitute/teehr@main'"
   ]
  },
  {
   "cell_type": "code",
   "execution_count": null,
   "id": "d385a1d6-1fcc-45aa-9aa6-baaa9a71d0a2",
   "metadata": {},
   "outputs": [],
   "source": [
    "import teehr.queries.duckdb as tqd"
   ]
  },
  {
   "cell_type": "markdown",
   "id": "60bb8e1a-2a43-4df1-8a28-50be4da8b32f",
   "metadata": {},
   "source": [
    "Thats it for this module."
   ]
  }
 ],
 "metadata": {
  "kernelspec": {
   "display_name": "Python 3 (ipykernel)",
   "language": "python",
   "name": "python3"
  },
  "language_info": {
   "codemirror_mode": {
    "name": "ipython",
    "version": 3
   },
   "file_extension": ".py",
   "mimetype": "text/x-python",
   "name": "python",
   "nbconvert_exporter": "python",
   "pygments_lexer": "ipython3",
   "version": "3.10.8"
  }
 },
 "nbformat": 4,
 "nbformat_minor": 5
}
