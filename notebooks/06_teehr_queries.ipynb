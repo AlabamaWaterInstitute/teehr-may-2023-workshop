{
 "cells": [
  {
   "cell_type": "markdown",
   "id": "29926ab4-066b-46e8-992c-6795bb9e1d5f",
   "metadata": {},
   "source": [
    "# 03 - TEEHR Queries\n",
    "The TEEHR library has tools to explore the cached timeseries data, join \"observed\" timeseries to \"simulated\" timeseries and generate statistical metrics while maintaining acceess to the source data for exploration.\n",
    "\n",
    "TEEHR currently has three main queries functions:\n",
    "* `Timeseries` This is the most basic query and fetches timeseries based on the user defined criteria and retruins it as a dataframe.\n",
    "* `Timeseries Characteristics` This query returns the characteristics of a timeseries. \n",
    "* `Joined Timeseries` This query joins the primary (\"observed\") and secondary (\"simulated\") timeseries togteher based on location and time and returns as a dataframe.\n",
    "* `Metrics` This query utilizes the joined timeseries, groups the values according to usered defined criteria and generates metrics which are returned as a dataframe."
   ]
  },
  {
   "cell_type": "code",
   "execution_count": null,
   "id": "6a7319ff-a0a8-49b0-a3da-06f1be57c399",
   "metadata": {},
   "outputs": [],
   "source": [
    "import duckdb\n",
    "from pathlib import Path\n",
    "import teehr.queries.duckdb as tqd\n",
    "import pandas as pd\n",
    "import geopandas as gpd\n",
    "import hvplot.pandas"
   ]
  },
  {
   "cell_type": "code",
   "execution_count": null,
   "id": "54bc33cd-7c8b-45a8-b391-be299477d3dd",
   "metadata": {},
   "outputs": [],
   "source": [
    "CACHE_DIR = Path(Path.home(), \"shared\", \"rti-eval\")\n",
    "STUDY_DIR = Path(CACHE_DIR, \"post-event-example\")\n",
    "USGS = Path(STUDY_DIR, \"timeseries/usgs/*.parquet\")\n",
    "MEDIUM_RANGE_MEM1 = Path(STUDY_DIR, \"timeseries/medium_range_mem1/*.parquet\")\n",
    "SHORT_RANGE = Path(STUDY_DIR, \"timeseries/short_range/*.parquet\")\n",
    "CROSSWALK = Path(STUDY_DIR, \"geo/usgs_nwm22_crosswalk.parquet\")\n",
    "GEOMETRY = Path(STUDY_DIR, \"geo/usgs_geometry.parquet\")"
   ]
  },
  {
   "cell_type": "markdown",
   "id": "47008e23-21f4-4871-b6e1-109c7c279756",
   "metadata": {},
   "source": [
    "## Timeseries"
   ]
  },
  {
   "cell_type": "code",
   "execution_count": null,
   "id": "5319acb5-e857-49d9-8d1b-7a739f6f3007",
   "metadata": {},
   "outputs": [],
   "source": [
    "# ?tqd.get_timeseries"
   ]
  },
  {
   "cell_type": "code",
   "execution_count": null,
   "id": "d3c61fa5-cecf-4f46-9439-7ae58af63660",
   "metadata": {},
   "outputs": [],
   "source": [
    "\"\"\"\n",
    "tqd.get_timeseries(\n",
    "    timeseries_filepath: str,\n",
    "    order_by: List[str],\n",
    "    filters: Optional[List[dict]] = None,\n",
    "    return_query: bool = False,\n",
    ") -> Union[str, pandas.core.frame.DataFrame, geopandas.geodataframe.GeoDataFrame]\n",
    "\"\"\"\n",
    "ts_df = tqd.get_timeseries(\n",
    "    timeseries_filepath=SHORT_RANGE,\n",
    "    order_by=[\"value_time\"],\n",
    "    filters=[\n",
    "        {\n",
    "            \"column\":  \"location_id\",\n",
    "            \"operator\": \"=\",\n",
    "            \"value\": \"nwm22-8941685\"\n",
    "        },\n",
    "        {\n",
    "            \"column\":  \"reference_time\",\n",
    "            \"operator\": \"=\",\n",
    "            \"value\": \"2023-01-02 16:00:00\"\n",
    "        }\n",
    "    ]\n",
    ")\n",
    "ts_df"
   ]
  },
  {
   "cell_type": "markdown",
   "id": "5ef9f4d2-a456-4309-a6fa-722037c5c80b",
   "metadata": {},
   "source": [
    "## Timeseries Characteristics"
   ]
  },
  {
   "cell_type": "code",
   "execution_count": null,
   "id": "ba6ed6f2-9bf8-4380-8fef-240c4b8c6592",
   "metadata": {},
   "outputs": [],
   "source": [
    "# ?tqd.get_timeseries_chars"
   ]
  },
  {
   "cell_type": "code",
   "execution_count": null,
   "id": "c32876db-709a-4876-a408-6377ad3a5bff",
   "metadata": {},
   "outputs": [],
   "source": [
    "\"\"\"\n",
    "tqd.get_timeseries_chars(\n",
    "    timeseries_filepath: str,\n",
    "    group_by: list[str],\n",
    "    order_by: List[str],\n",
    "    filters: Optional[List[dict]] = None,\n",
    "    return_query: bool = False,\n",
    ") -> Union[str, pandas.core.frame.DataFrame, geopandas.geodataframe.GeoDataFrame]\n",
    "\n",
    "usgs-05129290 -> nwm22-7152082\n",
    "usgs-05129515 -> nwm22-7163988\n",
    "\"\"\"\n",
    "ts_chars_df = tqd.get_timeseries_chars(\n",
    "    timeseries_filepath=SHORT_RANGE,\n",
    "    group_by=[\"location_id\", \"reference_time\"],\n",
    "    order_by=[\"location_id\"],\n",
    "    filters=[\n",
    "        {\n",
    "            \"column\":  \"location_id\",\n",
    "            \"operator\": \"in\",\n",
    "            \"value\": [\"nwm22-8941685\", \"nwm22-7152082\", \"nwm22-7163988\"]\n",
    "        },\n",
    "        {\n",
    "            \"column\":  \"reference_time\",\n",
    "            \"operator\": \"=\",\n",
    "            \"value\": \"2023-01-02 16:00:00\"\n",
    "        }\n",
    "    ]\n",
    ")\n",
    "ts_chars_df.transpose()"
   ]
  },
  {
   "cell_type": "markdown",
   "id": "2028be7c-09c0-4a7c-9c38-bef8841a68f7",
   "metadata": {},
   "source": [
    "## Joined Timeseries"
   ]
  },
  {
   "cell_type": "code",
   "execution_count": null,
   "id": "ecd5eaec-caf8-4337-afbb-3ceb46b357ef",
   "metadata": {},
   "outputs": [],
   "source": [
    "# ?tqd.get_joined_timeseries"
   ]
  },
  {
   "cell_type": "code",
   "execution_count": null,
   "id": "658566c7-d5ce-420f-bf8d-9e251fc18765",
   "metadata": {},
   "outputs": [],
   "source": [
    "\"\"\"\n",
    "tqd.get_joined_timeseries(\n",
    "    primary_filepath: str,\n",
    "    secondary_filepath: str,\n",
    "    crosswalk_filepath: str,\n",
    "    order_by: List[str],\n",
    "    filters: Optional[List[dict]] = None,\n",
    "    return_query: bool = False,\n",
    "    geometry_filepath: Optional[str] = None,\n",
    "    include_geometry: bool = False,\n",
    ") -> Union[str, pandas.core.frame.DataFrame, geopandas.geodataframe.GeoDataFrame]\n",
    "\"\"\"\n",
    "joined_df = tqd.get_joined_timeseries(\n",
    "    primary_filepath=USGS,\n",
    "    secondary_filepath=SHORT_RANGE,\n",
    "    crosswalk_filepath=CROSSWALK,\n",
    "    order_by=[\"value_time\"],\n",
    "    filters=[\n",
    "        {\n",
    "            \"column\":  \"primary_location_id\",\n",
    "            \"operator\": \"=\",\n",
    "            \"value\": \"usgs-10336676\"\n",
    "        },\n",
    "        {\n",
    "            \"column\":  \"reference_time\",\n",
    "            \"operator\": \"=\",\n",
    "            \"value\": \"2023-01-02 16:00:00\"\n",
    "        }\n",
    "    ]\n",
    ")\n",
    "joined_df"
   ]
  },
  {
   "cell_type": "code",
   "execution_count": null,
   "id": "55a51d37-790f-493f-b394-702477ea0f82",
   "metadata": {},
   "outputs": [],
   "source": [
    "joined_df.hvplot(x=\"value_time\", y=[\"primary_value\", \"secondary_value\"])"
   ]
  },
  {
   "cell_type": "markdown",
   "id": "ed1c0172-73f5-499a-8200-ddd38bca8500",
   "metadata": {},
   "source": [
    "## Timeseries Metrics"
   ]
  },
  {
   "cell_type": "code",
   "execution_count": null,
   "id": "bbc8a02d-9572-4fa0-a61f-91161d517a67",
   "metadata": {},
   "outputs": [],
   "source": [
    "?tqd.get_metrics"
   ]
  },
  {
   "cell_type": "code",
   "execution_count": null,
   "id": "9cf1177c-df9f-4b1f-9dbf-a85501982d4d",
   "metadata": {},
   "outputs": [],
   "source": [
    "\"\"\"\n",
    "tqd.get_metrics(\n",
    "    primary_filepath: str,\n",
    "    secondary_filepath: str,\n",
    "    crosswalk_filepath: str,\n",
    "    group_by: List[str],\n",
    "    order_by: List[str],\n",
    "    include_metrics: Union[List[teehr.models.queries.MetricEnum], ForwardRef('all')],\n",
    "    filters: Optional[List[dict]] = None,\n",
    "    return_query: bool = False,\n",
    "    geometry_filepath: Optional[str] = None,\n",
    "    include_geometry: bool = False,\n",
    ") -> Union[str, pandas.core.frame.DataFrame, geopandas.geodataframe.GeoDataFrame]\n",
    "\"\"\"\n",
    "metrics_df = tqd.get_metrics(\n",
    "    primary_filepath=USGS,\n",
    "    secondary_filepath=SHORT_RANGE,\n",
    "    crosswalk_filepath=CROSSWALK,\n",
    "    group_by=[\"primary_location_id\", \"reference_time\"],\n",
    "    order_by=[\"primary_location_id\"],\n",
    "    include_metrics=\"all\",\n",
    "    filters=[\n",
    "        {\n",
    "            \"column\":  \"primary_location_id\",\n",
    "            \"operator\": \"in\",\n",
    "            \"value\": [\"usgs-10336676\",\"usgs-05129290\", \"usgs-05129515\"]\n",
    "        },\n",
    "        {\n",
    "            \"column\":  \"reference_time\",\n",
    "            \"operator\": \"=\",\n",
    "            \"value\": \"2023-01-02 16:00:00\"\n",
    "        },\n",
    "    ]\n",
    ")\n",
    "metrics_df.transpose()"
   ]
  },
  {
   "cell_type": "markdown",
   "id": "747eafd1-e61f-4960-ac90-154dea70f718",
   "metadata": {},
   "source": [
    "## Want to know what query is being executed? Try: `return_query=True`"
   ]
  },
  {
   "cell_type": "code",
   "execution_count": null,
   "id": "60847e1c-b10a-45c7-a8c1-f2b4764b3067",
   "metadata": {},
   "outputs": [],
   "source": [
    "qry = tqd.get_metrics(\n",
    "    primary_filepath=USGS,\n",
    "    secondary_filepath=SHORT_RANGE,\n",
    "    crosswalk_filepath=CROSSWALK,\n",
    "    group_by=[\"primary_location_id\", \"reference_time\"],\n",
    "    order_by=[\"primary_location_id\"],\n",
    "    include_metrics=[\"bias\", \"nash_sutcliffe_efficiency\"],\n",
    "    filters=[\n",
    "        {\n",
    "            \"column\":  \"primary_location_id\",\n",
    "            \"operator\": \"=\",\n",
    "            \"value\": \"usgs-10336676\"\n",
    "        },\n",
    "        {\n",
    "            \"column\":  \"reference_time\",\n",
    "            \"operator\": \"=\",\n",
    "            \"value\": \"2023-01-02 16:00:00\"\n",
    "        }\n",
    "    ],\n",
    "    return_query=True\n",
    ")\n",
    "print(qry)"
   ]
  },
  {
   "cell_type": "code",
   "execution_count": null,
   "id": "b1447dc9-0a9a-4462-bb35-2606bb647923",
   "metadata": {},
   "outputs": [],
   "source": []
  }
 ],
 "metadata": {
  "kernelspec": {
   "display_name": "Python 3 (ipykernel)",
   "language": "python",
   "name": "python3"
  },
  "language_info": {
   "codemirror_mode": {
    "name": "ipython",
    "version": 3
   },
   "file_extension": ".py",
   "mimetype": "text/x-python",
   "name": "python",
   "nbconvert_exporter": "python",
   "pygments_lexer": "ipython3",
   "version": "3.10.8"
  }
 },
 "nbformat": 4,
 "nbformat_minor": 5
}
